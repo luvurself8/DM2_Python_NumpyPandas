{
 "cells": [
  {
   "cell_type": "code",
   "execution_count": 1,
   "id": "815611ea",
   "metadata": {},
   "outputs": [],
   "source": [
    "import numpy as np\n",
    "import pandas as pd"
   ]
  },
  {
   "cell_type": "markdown",
   "id": "0ec63e25",
   "metadata": {},
   "source": [
    "# 다음 보기와 같이 0이상 10미만의 3x3 모양의 정수 난수를 생성하고 각 행의 첫 번째 값으로 정렬하시오. (5점)"
   ]
  },
  {
   "cell_type": "code",
   "execution_count": 2,
   "id": "08679b15",
   "metadata": {},
   "outputs": [
    {
     "data": {
      "text/plain": [
       "array([[0, 9, 8],\n",
       "       [3, 6, 6],\n",
       "       [4, 7, 0]])"
      ]
     },
     "execution_count": 2,
     "metadata": {},
     "output_type": "execute_result"
    }
   ],
   "source": [
    "np.random.seed(5)\n",
    "array = np.random.randint(10,size = (3,3))\n",
    "array[np.argsort(array[:,0])]"
   ]
  },
  {
   "cell_type": "markdown",
   "id": "77c3cc3e",
   "metadata": {},
   "source": [
    "# 8x8 모양의 정수 0으로 채워진 행렬을 만들고 다음과 인덱싱과 슬라이싱일 이용하여 다음과 같은 체크보드 패턴을 만드시오. (10점)"
   ]
  },
  {
   "cell_type": "code",
   "execution_count": 3,
   "id": "c9026821",
   "metadata": {},
   "outputs": [
    {
     "data": {
      "text/plain": [
       "array([[0, 1, 0, 1, 0, 1, 0, 1],\n",
       "       [1, 0, 1, 0, 1, 0, 1, 0],\n",
       "       [0, 1, 0, 1, 0, 1, 0, 1],\n",
       "       [1, 0, 1, 0, 1, 0, 1, 0],\n",
       "       [0, 1, 0, 1, 0, 1, 0, 1],\n",
       "       [1, 0, 1, 0, 1, 0, 1, 0],\n",
       "       [0, 1, 0, 1, 0, 1, 0, 1],\n",
       "       [1, 0, 1, 0, 1, 0, 1, 0]])"
      ]
     },
     "execution_count": 3,
     "metadata": {},
     "output_type": "execute_result"
    }
   ],
   "source": [
    "zero = np.zeros((8,8), dtype = int)\n",
    "# 0~7\n",
    "zero[0][[1,3,5,7]] = 1\n",
    "zero[2][[1,3,5,7]] = 1\n",
    "zero[4][[1,3,5,7]] = 1\n",
    "zero[6][[1,3,5,7]] = 1\n",
    "zero[1][[0,2,4,6]] = 1\n",
    "zero[3][[0,2,4,6]] = 1\n",
    "zero[5][[0,2,4,6]] = 1\n",
    "zero[7][[0,2,4,6]] = 1\n",
    "\n",
    "zero"
   ]
  },
  {
   "cell_type": "markdown",
   "id": "f4840f59",
   "metadata": {},
   "source": [
    "# [0,1) 사이의 값을 갖는 크기 10의 랜덤 벡터를 만들고 최대값을 0으로 바꾸는 코드를 만드시오. (5점)"
   ]
  },
  {
   "cell_type": "code",
   "execution_count": 4,
   "id": "2a05224f",
   "metadata": {},
   "outputs": [
    {
     "name": "stdout",
     "output_type": "stream",
     "text": [
      "[0.51841799 0.2968005  0.18772123 0.08074127 0.7384403  0.44130922\n",
      " 0.15830987 0.87993703 0.27408646 0.41423502]\n"
     ]
    },
    {
     "data": {
      "text/plain": [
       "array([0.51841799, 0.2968005 , 0.18772123, 0.08074127, 0.7384403 ,\n",
       "       0.44130922, 0.15830987, 0.        , 0.27408646, 0.41423502])"
      ]
     },
     "execution_count": 4,
     "metadata": {},
     "output_type": "execute_result"
    }
   ],
   "source": [
    "random = np.random.rand(10)\n",
    "print(random)\n",
    "random[np.where(np.max(random)== random)] = 0\n",
    "random"
   ]
  },
  {
   "cell_type": "markdown",
   "id": "06fb412d",
   "metadata": {},
   "source": [
    "# 월드컵 출전선수 골 기록 데이터 분석 (30점)\n",
    "- 데이터 파일: worldcupgoals.csv\n"
   ]
  },
  {
   "cell_type": "code",
   "execution_count": 5,
   "id": "3d523951",
   "metadata": {},
   "outputs": [],
   "source": [
    "worldcup = pd.read_csv('./worldcupgoals.csv')"
   ]
  },
  {
   "cell_type": "code",
   "execution_count": 6,
   "id": "50a4ab36",
   "metadata": {},
   "outputs": [
    {
     "data": {
      "text/html": [
       "<div>\n",
       "<style scoped>\n",
       "    .dataframe tbody tr th:only-of-type {\n",
       "        vertical-align: middle;\n",
       "    }\n",
       "\n",
       "    .dataframe tbody tr th {\n",
       "        vertical-align: top;\n",
       "    }\n",
       "\n",
       "    .dataframe thead th {\n",
       "        text-align: right;\n",
       "    }\n",
       "</style>\n",
       "<table border=\"1\" class=\"dataframe\">\n",
       "  <thead>\n",
       "    <tr style=\"text-align: right;\">\n",
       "      <th></th>\n",
       "      <th>Player</th>\n",
       "      <th>Goals</th>\n",
       "      <th>Years</th>\n",
       "      <th>Country</th>\n",
       "    </tr>\n",
       "  </thead>\n",
       "  <tbody>\n",
       "    <tr>\n",
       "      <th>0</th>\n",
       "      <td>Miroslav Klose</td>\n",
       "      <td>16</td>\n",
       "      <td>2002-2006-2010-2014</td>\n",
       "      <td>Germany</td>\n",
       "    </tr>\n",
       "    <tr>\n",
       "      <th>1</th>\n",
       "      <td>Ronaldo</td>\n",
       "      <td>15</td>\n",
       "      <td>1998-2002-2006</td>\n",
       "      <td>Brazil</td>\n",
       "    </tr>\n",
       "    <tr>\n",
       "      <th>2</th>\n",
       "      <td>Gerd Muller</td>\n",
       "      <td>14</td>\n",
       "      <td>1970-1974</td>\n",
       "      <td>Germany</td>\n",
       "    </tr>\n",
       "    <tr>\n",
       "      <th>3</th>\n",
       "      <td>Just Fontaine</td>\n",
       "      <td>13</td>\n",
       "      <td>1958</td>\n",
       "      <td>France</td>\n",
       "    </tr>\n",
       "    <tr>\n",
       "      <th>4</th>\n",
       "      <td>Pele</td>\n",
       "      <td>12</td>\n",
       "      <td>1958-1962-1966-1970</td>\n",
       "      <td>Brazil</td>\n",
       "    </tr>\n",
       "  </tbody>\n",
       "</table>\n",
       "</div>"
      ],
      "text/plain": [
       "           Player  Goals                Years  Country\n",
       "0  Miroslav Klose     16  2002-2006-2010-2014  Germany\n",
       "1         Ronaldo     15       1998-2002-2006   Brazil\n",
       "2     Gerd Muller     14            1970-1974  Germany\n",
       "3   Just Fontaine     13                 1958   France\n",
       "4            Pele     12  1958-1962-1966-1970   Brazil"
      ]
     },
     "execution_count": 6,
     "metadata": {},
     "output_type": "execute_result"
    }
   ],
   "source": [
    "worldcup.head()"
   ]
  },
  {
   "cell_type": "markdown",
   "id": "c3d22b5e",
   "metadata": {},
   "source": [
    "## 주어진 전체 기간의 각 나라별 골 득점수 상위 5개 국가와 그 득점수를 출력하시오"
   ]
  },
  {
   "cell_type": "code",
   "execution_count": 7,
   "id": "8734702a",
   "metadata": {
    "scrolled": true
   },
   "outputs": [
    {
     "data": {
      "text/plain": [
       "Country\n",
       "Brazil       228\n",
       "Germany      226\n",
       "Argentina    135\n",
       "Italy        123\n",
       "France       115\n",
       "Name: Goals, dtype: int64"
      ]
     },
     "execution_count": 7,
     "metadata": {},
     "output_type": "execute_result"
    }
   ],
   "source": [
    "worldcup.groupby('Country')['Goals'].sum().sort_values(ascending=False).head()"
   ]
  },
  {
   "cell_type": "markdown",
   "id": "9db0a21c",
   "metadata": {},
   "source": [
    "## 주어진 전체기간동안 골득점을 한 선수가 가장 많은 나라 상위 5개 국가와 그 선수 숫자를 출력하시오"
   ]
  },
  {
   "cell_type": "code",
   "execution_count": 8,
   "id": "2577f1d4",
   "metadata": {},
   "outputs": [
    {
     "data": {
      "text/plain": [
       "Index(['Player', 'Goals', 'Years', 'Country'], dtype='object')"
      ]
     },
     "execution_count": 8,
     "metadata": {},
     "output_type": "execute_result"
    }
   ],
   "source": [
    "worldcup.columns"
   ]
  },
  {
   "cell_type": "code",
   "execution_count": 9,
   "id": "f55d44c8",
   "metadata": {
    "scrolled": true
   },
   "outputs": [
    {
     "data": {
      "text/plain": [
       "Country\n",
       "Brazil       81\n",
       "Germany      78\n",
       "Italy        60\n",
       "Argentina    59\n",
       "France       58\n",
       "Name: Player, dtype: int64"
      ]
     },
     "execution_count": 9,
     "metadata": {},
     "output_type": "execute_result"
    }
   ],
   "source": [
    "worldcup.groupby('Country')['Player'].count().sort_values(ascending=False).head()"
   ]
  },
  {
   "cell_type": "markdown",
   "id": "0cd04cef",
   "metadata": {},
   "source": [
    "## Years 컬럼은 년도 -년도 형식으로 구성 되어있고, 각 년도는 4자리 숫자이다. 각 년도 표기가 4자리 숫자로 안된 케이스가 존재한다. 해당 건은 몇 건인지 출력하시오."
   ]
  },
  {
   "cell_type": "code",
   "execution_count": 10,
   "id": "16de5cbc",
   "metadata": {},
   "outputs": [
    {
     "data": {
      "text/plain": [
       "array(['2002-2006-2010-2014', '1998-2002-2006', '1970-1974', '1958',\n",
       "       '1958-1962-1966-1970', '1990-1994-1998', '1954', '1994-1998-2002',\n",
       "       '1986-1990', '2010-2014', '1954-1958', '1970-1978-1982',\n",
       "       '1974-1978-1982', '1950', '1966-1970-1974', '1958-1962',\n",
       "       '1978-1982-1986', '1978-1982', '1998-2002', '1966',\n",
       "       '2006-2010-2014', '1982-1986-1990-1994', '1930', '1934-1938',\n",
       "       '1986-1990-1994', '1950-1954', '1954-1958-1962', '1974-1978',\n",
       "       '2006-2010-2014-2018', '2010-2014-2018', '1994-1998', '2014-2018',\n",
       "       '1970-1974-1978', '2014', '2018', '1998-2002-2006-2010',\n",
       "       '1962-1966-1970', '1986-1990-1994-1998', '1990', '1994',\n",
       "       '2002-2010', '1958-1962-1966', '1990-1994', '0', '1966-1970',\n",
       "       '2006-2010', '1938', '2002-2006-2010', '1990-1994-2002', '1978',\n",
       "       '1982-1986', '1982-1986-1990', '1998', '1962-1966', '1986',\n",
       "       '1974-1982', '1934', '1954-1962', '2002-2006', '2010',\n",
       "       '1994-2002-2006', '1970', '1962', '1982', '2002',\n",
       "       '1962-1966-1970-1974', '1998-2002-2010', '1974',\n",
       "       '1994-1998-2002-2006', '1990-1998-2002', '1990-1998', '1930-1934',\n",
       "       '1970-1982', '1930-1934-1938', '2006', '2006-2014', '1986-1994',\n",
       "       '2002-2006-2014', '1986-1998', '1950-1954-1958', '1998-2006',\n",
       "       '1990-1994-1998-2002', '1962-1970-1974', '1978-1986',\n",
       "       '1954-1958-1962-1966', '1962-1970', '1982-1990', '1930-1938',\n",
       "       '1990-2002', '1978-1986-1994', '1970-1978', '1994-2002',\n",
       "       '1966-1978', '1950-1958', '1938-1950'], dtype=object)"
      ]
     },
     "execution_count": 10,
     "metadata": {},
     "output_type": "execute_result"
    }
   ],
   "source": [
    "worldcup['Years'].unique()"
   ]
  },
  {
   "cell_type": "code",
   "execution_count": 11,
   "id": "dc184a90",
   "metadata": {},
   "outputs": [
    {
     "name": "stdout",
     "output_type": "stream",
     "text": [
      "0 <re.Match object; span=(0, 4), match='2002'>\n",
      "1 <re.Match object; span=(0, 4), match='1998'>\n",
      "2 <re.Match object; span=(0, 4), match='1970'>\n",
      "3 <re.Match object; span=(0, 4), match='1958'>\n",
      "4 <re.Match object; span=(0, 4), match='1958'>\n",
      "5 <re.Match object; span=(0, 4), match='1990'>\n",
      "6 <re.Match object; span=(0, 4), match='1954'>\n",
      "7 <re.Match object; span=(0, 4), match='1994'>\n",
      "8 <re.Match object; span=(0, 4), match='1986'>\n",
      "9 <re.Match object; span=(0, 4), match='2010'>\n",
      "10 <re.Match object; span=(0, 4), match='1954'>\n",
      "11 <re.Match object; span=(0, 4), match='1970'>\n",
      "12 <re.Match object; span=(0, 4), match='1974'>\n",
      "13 <re.Match object; span=(0, 4), match='1950'>\n",
      "14 <re.Match object; span=(0, 4), match='1966'>\n",
      "15 <re.Match object; span=(0, 4), match='1958'>\n",
      "16 <re.Match object; span=(0, 4), match='1978'>\n",
      "17 <re.Match object; span=(0, 4), match='1978'>\n",
      "18 <re.Match object; span=(0, 4), match='1998'>\n",
      "19 <re.Match object; span=(0, 4), match='1966'>\n",
      "20 <re.Match object; span=(0, 4), match='2006'>\n",
      "21 <re.Match object; span=(0, 4), match='1982'>\n",
      "22 <re.Match object; span=(0, 4), match='1930'>\n",
      "23 <re.Match object; span=(0, 4), match='1934'>\n",
      "24 <re.Match object; span=(0, 4), match='1986'>\n",
      "25 <re.Match object; span=(0, 4), match='1950'>\n",
      "26 <re.Match object; span=(0, 4), match='1954'>\n",
      "27 <re.Match object; span=(0, 4), match='1974'>\n",
      "28 <re.Match object; span=(0, 4), match='2006'>\n",
      "29 <re.Match object; span=(0, 4), match='2010'>\n",
      "30 <re.Match object; span=(0, 4), match='1994'>\n",
      "31 <re.Match object; span=(0, 4), match='2014'>\n",
      "32 <re.Match object; span=(0, 4), match='1970'>\n",
      "33 <re.Match object; span=(0, 4), match='2014'>\n",
      "34 <re.Match object; span=(0, 4), match='2018'>\n",
      "35 <re.Match object; span=(0, 4), match='1998'>\n",
      "36 <re.Match object; span=(0, 4), match='1962'>\n",
      "37 <re.Match object; span=(0, 4), match='1986'>\n",
      "38 <re.Match object; span=(0, 4), match='1990'>\n",
      "39 <re.Match object; span=(0, 4), match='1994'>\n",
      "40 <re.Match object; span=(0, 4), match='2002'>\n",
      "41 <re.Match object; span=(0, 4), match='1958'>\n",
      "42 <re.Match object; span=(0, 4), match='1990'>\n",
      "43 None\n",
      "43 번째가 매치되지 않습니다\n",
      "44 <re.Match object; span=(0, 4), match='1966'>\n",
      "45 <re.Match object; span=(0, 4), match='2006'>\n",
      "46 <re.Match object; span=(0, 4), match='1938'>\n",
      "47 <re.Match object; span=(0, 4), match='2002'>\n",
      "48 <re.Match object; span=(0, 4), match='1990'>\n",
      "49 <re.Match object; span=(0, 4), match='1978'>\n",
      "50 <re.Match object; span=(0, 4), match='1982'>\n",
      "51 <re.Match object; span=(0, 4), match='1982'>\n",
      "52 <re.Match object; span=(0, 4), match='1998'>\n",
      "53 <re.Match object; span=(0, 4), match='1962'>\n",
      "54 <re.Match object; span=(0, 4), match='1986'>\n",
      "55 <re.Match object; span=(0, 4), match='1974'>\n",
      "56 <re.Match object; span=(0, 4), match='1934'>\n",
      "57 <re.Match object; span=(0, 4), match='1954'>\n",
      "58 <re.Match object; span=(0, 4), match='2002'>\n",
      "59 <re.Match object; span=(0, 4), match='2010'>\n",
      "60 <re.Match object; span=(0, 4), match='1994'>\n",
      "61 <re.Match object; span=(0, 4), match='1970'>\n",
      "62 <re.Match object; span=(0, 4), match='1962'>\n",
      "63 <re.Match object; span=(0, 4), match='1982'>\n",
      "64 <re.Match object; span=(0, 4), match='2002'>\n",
      "65 <re.Match object; span=(0, 4), match='1962'>\n",
      "66 <re.Match object; span=(0, 4), match='1998'>\n",
      "67 <re.Match object; span=(0, 4), match='1974'>\n",
      "68 <re.Match object; span=(0, 4), match='1994'>\n",
      "69 <re.Match object; span=(0, 4), match='1990'>\n",
      "70 <re.Match object; span=(0, 4), match='1990'>\n",
      "71 <re.Match object; span=(0, 4), match='1930'>\n",
      "72 <re.Match object; span=(0, 4), match='1970'>\n",
      "73 <re.Match object; span=(0, 4), match='1930'>\n",
      "74 <re.Match object; span=(0, 4), match='2006'>\n",
      "75 <re.Match object; span=(0, 4), match='2006'>\n",
      "76 <re.Match object; span=(0, 4), match='1986'>\n",
      "77 <re.Match object; span=(0, 4), match='2002'>\n",
      "78 <re.Match object; span=(0, 4), match='1986'>\n",
      "79 <re.Match object; span=(0, 4), match='1950'>\n",
      "80 <re.Match object; span=(0, 4), match='1998'>\n",
      "81 <re.Match object; span=(0, 4), match='1990'>\n",
      "82 <re.Match object; span=(0, 4), match='1962'>\n",
      "83 <re.Match object; span=(0, 4), match='1978'>\n",
      "84 <re.Match object; span=(0, 4), match='1954'>\n",
      "85 <re.Match object; span=(0, 4), match='1962'>\n",
      "86 <re.Match object; span=(0, 4), match='1982'>\n",
      "87 <re.Match object; span=(0, 4), match='1930'>\n",
      "88 <re.Match object; span=(0, 4), match='1990'>\n",
      "89 <re.Match object; span=(0, 4), match='1978'>\n",
      "90 <re.Match object; span=(0, 4), match='1970'>\n",
      "91 <re.Match object; span=(0, 4), match='1994'>\n",
      "92 <re.Match object; span=(0, 4), match='1966'>\n",
      "93 <re.Match object; span=(0, 4), match='1950'>\n",
      "94 <re.Match object; span=(0, 4), match='1938'>\n"
     ]
    }
   ],
   "source": [
    "import re\n",
    "p = re.compile('....')\n",
    "k = []\n",
    "for i, year in enumerate( worldcup['Years'].unique()):\n",
    "    print (i ,p.search(year))\n",
    "    if p.search(year) == None:\n",
    "        print(f'{i} 번째가 매치되지 않습니다')\n",
    "        k.append(i)\n",
    "\n",
    "#매치되는거 94개"
   ]
  },
  {
   "cell_type": "code",
   "execution_count": 12,
   "id": "cb091a63",
   "metadata": {},
   "outputs": [
    {
     "data": {
      "text/plain": [
       "[43]"
      ]
     },
     "execution_count": 12,
     "metadata": {},
     "output_type": "execute_result"
    }
   ],
   "source": [
    "k"
   ]
  },
  {
   "cell_type": "code",
   "execution_count": 13,
   "id": "9b21ce1c",
   "metadata": {},
   "outputs": [
    {
     "data": {
      "text/plain": [
       "'0'"
      ]
     },
     "execution_count": 13,
     "metadata": {},
     "output_type": "execute_result"
    }
   ],
   "source": [
    "worldcup['Years'].unique()[43]"
   ]
  },
  {
   "cell_type": "code",
   "execution_count": 14,
   "id": "e77d1d5e",
   "metadata": {},
   "outputs": [
    {
     "data": {
      "text/plain": [
       "95"
      ]
     },
     "execution_count": 14,
     "metadata": {},
     "output_type": "execute_result"
    }
   ],
   "source": [
    "len(worldcup['Years'].unique())\n",
    "\n",
    "# 매치 안되는거 오직 한개 --> 0"
   ]
  },
  {
   "cell_type": "markdown",
   "id": "89a3b73b",
   "metadata": {},
   "source": [
    "- 매치 안되는거 오직 한개 --> 0"
   ]
  },
  {
   "cell_type": "code",
   "execution_count": 15,
   "id": "602e265f",
   "metadata": {},
   "outputs": [
    {
     "data": {
      "text/plain": [
       "Player     object\n",
       "Goals       int64\n",
       "Years      object\n",
       "Country    object\n",
       "dtype: object"
      ]
     },
     "execution_count": 15,
     "metadata": {},
     "output_type": "execute_result"
    }
   ],
   "source": [
    "worldcup.dtypes"
   ]
  },
  {
   "cell_type": "code",
   "execution_count": 16,
   "id": "701a6c2e",
   "metadata": {},
   "outputs": [
    {
     "data": {
      "text/plain": [
       "45"
      ]
     },
     "execution_count": 16,
     "metadata": {},
     "output_type": "execute_result"
    }
   ],
   "source": [
    "np.sum(worldcup['Years'] == '0')"
   ]
  },
  {
   "cell_type": "markdown",
   "id": "c1ca30db",
   "metadata": {},
   "source": [
    "## 3번 문제에서 발생한 예외 케이스(년도 표기가 4자리 숫자가 아닌 경우)를 제외한 새로운 데이터 프레임을 생성하고 전체 데이터 행의 숫자를 출력하시오.\n"
   ]
  },
  {
   "cell_type": "code",
   "execution_count": 17,
   "id": "9273e431",
   "metadata": {},
   "outputs": [
    {
     "name": "stderr",
     "output_type": "stream",
     "text": [
      "C:\\Users\\User\\AppData\\Local\\Temp\\ipykernel_4252\\2604866588.py:1: SettingWithCopyWarning: \n",
      "A value is trying to be set on a copy of a slice from a DataFrame\n",
      "\n",
      "See the caveats in the documentation: https://pandas.pydata.org/pandas-docs/stable/user_guide/indexing.html#returning-a-view-versus-a-copy\n",
      "  worldcup['Years'][worldcup['Years'] == '0'] = None\n"
     ]
    }
   ],
   "source": [
    "worldcup['Years'][worldcup['Years'] == '0'] = None"
   ]
  },
  {
   "cell_type": "code",
   "execution_count": 18,
   "id": "646983ae",
   "metadata": {},
   "outputs": [
    {
     "data": {
      "text/plain": [
       "array(['2002-2006-2010-2014', '1998-2002-2006', '1970-1974', '1958',\n",
       "       '1958-1962-1966-1970', '1990-1994-1998', '1954', '1994-1998-2002',\n",
       "       '1986-1990', '2010-2014', '1954-1958', '1970-1978-1982',\n",
       "       '1974-1978-1982', '1950', '1966-1970-1974', '1958-1962',\n",
       "       '1978-1982-1986', '1978-1982', '1998-2002', '1966',\n",
       "       '2006-2010-2014', '1982-1986-1990-1994', '1930', '1934-1938',\n",
       "       '1986-1990-1994', '1950-1954', '1954-1958-1962', '1974-1978',\n",
       "       '2006-2010-2014-2018', '2010-2014-2018', '1994-1998', '2014-2018',\n",
       "       '1970-1974-1978', '2014', '2018', '1998-2002-2006-2010',\n",
       "       '1962-1966-1970', '1986-1990-1994-1998', '1990', '1994',\n",
       "       '2002-2010', '1958-1962-1966', '1990-1994', None, '1966-1970',\n",
       "       '2006-2010', '1938', '2002-2006-2010', '1990-1994-2002', '1978',\n",
       "       '1982-1986', '1982-1986-1990', '1998', '1962-1966', '1986',\n",
       "       '1974-1982', '1934', '1954-1962', '2002-2006', '2010',\n",
       "       '1994-2002-2006', '1970', '1962', '1982', '2002',\n",
       "       '1962-1966-1970-1974', '1998-2002-2010', '1974',\n",
       "       '1994-1998-2002-2006', '1990-1998-2002', '1990-1998', '1930-1934',\n",
       "       '1970-1982', '1930-1934-1938', '2006', '2006-2014', '1986-1994',\n",
       "       '2002-2006-2014', '1986-1998', '1950-1954-1958', '1998-2006',\n",
       "       '1990-1994-1998-2002', '1962-1970-1974', '1978-1986',\n",
       "       '1954-1958-1962-1966', '1962-1970', '1982-1990', '1930-1938',\n",
       "       '1990-2002', '1978-1986-1994', '1970-1978', '1994-2002',\n",
       "       '1966-1978', '1950-1958', '1938-1950'], dtype=object)"
      ]
     },
     "execution_count": 18,
     "metadata": {},
     "output_type": "execute_result"
    }
   ],
   "source": [
    "worldcup['Years'].unique()"
   ]
  },
  {
   "cell_type": "code",
   "execution_count": 19,
   "id": "da88d87a",
   "metadata": {},
   "outputs": [
    {
     "data": {
      "text/plain": [
       "45"
      ]
     },
     "execution_count": 19,
     "metadata": {},
     "output_type": "execute_result"
    }
   ],
   "source": [
    "np.sum(worldcup['Years'].isna())"
   ]
  },
  {
   "cell_type": "code",
   "execution_count": 20,
   "id": "74324d97",
   "metadata": {},
   "outputs": [
    {
     "data": {
      "text/plain": [
       "Player      0\n",
       "Goals       0\n",
       "Years      45\n",
       "Country     0\n",
       "dtype: int64"
      ]
     },
     "execution_count": 20,
     "metadata": {},
     "output_type": "execute_result"
    }
   ],
   "source": [
    "np.sum(worldcup.isna())"
   ]
  },
  {
   "cell_type": "code",
   "execution_count": 21,
   "id": "9a124a62",
   "metadata": {},
   "outputs": [],
   "source": [
    "worldcup = worldcup.dropna()"
   ]
  },
  {
   "cell_type": "code",
   "execution_count": 22,
   "id": "ffb3f75b",
   "metadata": {},
   "outputs": [
    {
     "data": {
      "text/plain": [
       "1250"
      ]
     },
     "execution_count": 22,
     "metadata": {},
     "output_type": "execute_result"
    }
   ],
   "source": [
    "len(worldcup)"
   ]
  },
  {
   "cell_type": "markdown",
   "id": "7afe8c67",
   "metadata": {},
   "source": [
    "## 월드컵 출전횟수를 나타내는 ‘LenCup’ 컬럼을 추가하고 4회 출전한 선수의 숫자를 구하시오.\n"
   ]
  },
  {
   "cell_type": "code",
   "execution_count": 23,
   "id": "08dbe870",
   "metadata": {},
   "outputs": [],
   "source": [
    "worldcup['LenCup']= worldcup['Years'].str.count('-')+1"
   ]
  },
  {
   "cell_type": "code",
   "execution_count": 24,
   "id": "76c2c990",
   "metadata": {},
   "outputs": [
    {
     "data": {
      "text/html": [
       "<div>\n",
       "<style scoped>\n",
       "    .dataframe tbody tr th:only-of-type {\n",
       "        vertical-align: middle;\n",
       "    }\n",
       "\n",
       "    .dataframe tbody tr th {\n",
       "        vertical-align: top;\n",
       "    }\n",
       "\n",
       "    .dataframe thead th {\n",
       "        text-align: right;\n",
       "    }\n",
       "</style>\n",
       "<table border=\"1\" class=\"dataframe\">\n",
       "  <thead>\n",
       "    <tr style=\"text-align: right;\">\n",
       "      <th></th>\n",
       "      <th>Player</th>\n",
       "      <th>Goals</th>\n",
       "      <th>Years</th>\n",
       "      <th>Country</th>\n",
       "      <th>LenCup</th>\n",
       "    </tr>\n",
       "  </thead>\n",
       "  <tbody>\n",
       "    <tr>\n",
       "      <th>0</th>\n",
       "      <td>Miroslav Klose</td>\n",
       "      <td>16</td>\n",
       "      <td>2002-2006-2010-2014</td>\n",
       "      <td>Germany</td>\n",
       "      <td>4</td>\n",
       "    </tr>\n",
       "    <tr>\n",
       "      <th>1</th>\n",
       "      <td>Ronaldo</td>\n",
       "      <td>15</td>\n",
       "      <td>1998-2002-2006</td>\n",
       "      <td>Brazil</td>\n",
       "      <td>3</td>\n",
       "    </tr>\n",
       "    <tr>\n",
       "      <th>2</th>\n",
       "      <td>Gerd Muller</td>\n",
       "      <td>14</td>\n",
       "      <td>1970-1974</td>\n",
       "      <td>Germany</td>\n",
       "      <td>2</td>\n",
       "    </tr>\n",
       "    <tr>\n",
       "      <th>3</th>\n",
       "      <td>Just Fontaine</td>\n",
       "      <td>13</td>\n",
       "      <td>1958</td>\n",
       "      <td>France</td>\n",
       "      <td>1</td>\n",
       "    </tr>\n",
       "    <tr>\n",
       "      <th>4</th>\n",
       "      <td>Pele</td>\n",
       "      <td>12</td>\n",
       "      <td>1958-1962-1966-1970</td>\n",
       "      <td>Brazil</td>\n",
       "      <td>4</td>\n",
       "    </tr>\n",
       "  </tbody>\n",
       "</table>\n",
       "</div>"
      ],
      "text/plain": [
       "           Player  Goals                Years  Country  LenCup\n",
       "0  Miroslav Klose     16  2002-2006-2010-2014  Germany       4\n",
       "1         Ronaldo     15       1998-2002-2006   Brazil       3\n",
       "2     Gerd Muller     14            1970-1974  Germany       2\n",
       "3   Just Fontaine     13                 1958   France       1\n",
       "4            Pele     12  1958-1962-1966-1970   Brazil       4"
      ]
     },
     "execution_count": 24,
     "metadata": {},
     "output_type": "execute_result"
    }
   ],
   "source": [
    "worldcup.head()"
   ]
  },
  {
   "cell_type": "code",
   "execution_count": 25,
   "id": "0b0e077e",
   "metadata": {},
   "outputs": [
    {
     "data": {
      "text/plain": [
       "16"
      ]
     },
     "execution_count": 25,
     "metadata": {},
     "output_type": "execute_result"
    }
   ],
   "source": [
    "np.sum(worldcup['LenCup']==4)"
   ]
  },
  {
   "cell_type": "markdown",
   "id": "1766a34e",
   "metadata": {},
   "source": [
    "## yugoslavia 국가의 월드컵 출전횟수가 2회인 선수들의 숫자를 구하시오."
   ]
  },
  {
   "cell_type": "code",
   "execution_count": 26,
   "id": "ade0eb27",
   "metadata": {},
   "outputs": [
    {
     "data": {
      "text/plain": [
       "7"
      ]
     },
     "execution_count": 26,
     "metadata": {},
     "output_type": "execute_result"
    }
   ],
   "source": [
    "np.sum(worldcup[worldcup['Country']=='Yugoslavia']['LenCup'] ==2)"
   ]
  },
  {
   "cell_type": "markdown",
   "id": "1710946b",
   "metadata": {},
   "source": [
    "## 2002년도에 출전한 전체 선수 수를 구하시오."
   ]
  },
  {
   "cell_type": "code",
   "execution_count": 27,
   "id": "89bc2666",
   "metadata": {},
   "outputs": [
    {
     "data": {
      "text/plain": [
       "156"
      ]
     },
     "execution_count": 27,
     "metadata": {},
     "output_type": "execute_result"
    }
   ],
   "source": [
    "np.sum(worldcup['Years'].str.find('2002') != -1)\n",
    "#156 명"
   ]
  },
  {
   "cell_type": "markdown",
   "id": "45216b31",
   "metadata": {},
   "source": [
    "## 월드컵 출전 횟수가 1회 뿐인 선수들 중에서 가장 많은 득점을 올렸던 선수는 누구이며 몇 골을 넣었는지 구하시오\n"
   ]
  },
  {
   "cell_type": "code",
   "execution_count": 28,
   "id": "4c3f88b9",
   "metadata": {},
   "outputs": [
    {
     "data": {
      "text/html": [
       "<div>\n",
       "<style scoped>\n",
       "    .dataframe tbody tr th:only-of-type {\n",
       "        vertical-align: middle;\n",
       "    }\n",
       "\n",
       "    .dataframe tbody tr th {\n",
       "        vertical-align: top;\n",
       "    }\n",
       "\n",
       "    .dataframe thead th {\n",
       "        text-align: right;\n",
       "    }\n",
       "</style>\n",
       "<table border=\"1\" class=\"dataframe\">\n",
       "  <thead>\n",
       "    <tr style=\"text-align: right;\">\n",
       "      <th></th>\n",
       "      <th>Player</th>\n",
       "      <th>Goals</th>\n",
       "    </tr>\n",
       "  </thead>\n",
       "  <tbody>\n",
       "    <tr>\n",
       "      <th>3</th>\n",
       "      <td>Just Fontaine</td>\n",
       "      <td>13</td>\n",
       "    </tr>\n",
       "  </tbody>\n",
       "</table>\n",
       "</div>"
      ],
      "text/plain": [
       "          Player  Goals\n",
       "3  Just Fontaine     13"
      ]
     },
     "execution_count": 28,
     "metadata": {},
     "output_type": "execute_result"
    }
   ],
   "source": [
    "worldcup[worldcup['LenCup']==1].sort_values('Goals', ascending = False).head(1)[['Player','Goals']]\n",
    "# Just Fontaine, 13"
   ]
  },
  {
   "cell_type": "markdown",
   "id": "d6f9bd2a",
   "metadata": {},
   "source": [
    "#  전 세계 행복도 지수 데이터 분석 (30점)"
   ]
  },
  {
   "cell_type": "code",
   "execution_count": 29,
   "id": "60c94fa8",
   "metadata": {},
   "outputs": [],
   "source": [
    "happiness = pd.read_csv('./happiness.csv')"
   ]
  },
  {
   "cell_type": "code",
   "execution_count": 30,
   "id": "41f5bfec",
   "metadata": {},
   "outputs": [
    {
     "data": {
      "text/plain": [
       "행복랭킹          int64\n",
       "나라명          object\n",
       "점수          float64\n",
       "상대GDP       float64\n",
       "사회적지원       float64\n",
       "행복기대치       float64\n",
       "선택의 자유도     float64\n",
       "관대함         float64\n",
       "부패에 대한인식    float64\n",
       "년도            int64\n",
       "dtype: object"
      ]
     },
     "execution_count": 30,
     "metadata": {},
     "output_type": "execute_result"
    }
   ],
   "source": [
    "happiness.dtypes"
   ]
  },
  {
   "cell_type": "code",
   "execution_count": 31,
   "id": "43ecada8",
   "metadata": {
    "scrolled": true
   },
   "outputs": [
    {
     "data": {
      "text/plain": [
       "(312, 10)"
      ]
     },
     "execution_count": 31,
     "metadata": {},
     "output_type": "execute_result"
    }
   ],
   "source": [
    "happiness.shape"
   ]
  },
  {
   "cell_type": "code",
   "execution_count": 32,
   "id": "2c5cc133",
   "metadata": {},
   "outputs": [
    {
     "data": {
      "text/html": [
       "<div>\n",
       "<style scoped>\n",
       "    .dataframe tbody tr th:only-of-type {\n",
       "        vertical-align: middle;\n",
       "    }\n",
       "\n",
       "    .dataframe tbody tr th {\n",
       "        vertical-align: top;\n",
       "    }\n",
       "\n",
       "    .dataframe thead th {\n",
       "        text-align: right;\n",
       "    }\n",
       "</style>\n",
       "<table border=\"1\" class=\"dataframe\">\n",
       "  <thead>\n",
       "    <tr style=\"text-align: right;\">\n",
       "      <th></th>\n",
       "      <th>행복랭킹</th>\n",
       "      <th>나라명</th>\n",
       "      <th>점수</th>\n",
       "      <th>상대GDP</th>\n",
       "      <th>사회적지원</th>\n",
       "      <th>행복기대치</th>\n",
       "      <th>선택의 자유도</th>\n",
       "      <th>관대함</th>\n",
       "      <th>부패에 대한인식</th>\n",
       "      <th>년도</th>\n",
       "    </tr>\n",
       "  </thead>\n",
       "  <tbody>\n",
       "    <tr>\n",
       "      <th>0</th>\n",
       "      <td>1</td>\n",
       "      <td>Finland</td>\n",
       "      <td>7.769</td>\n",
       "      <td>1.340</td>\n",
       "      <td>1.587</td>\n",
       "      <td>0.986</td>\n",
       "      <td>0.596</td>\n",
       "      <td>0.153</td>\n",
       "      <td>0.393</td>\n",
       "      <td>2019</td>\n",
       "    </tr>\n",
       "    <tr>\n",
       "      <th>1</th>\n",
       "      <td>2</td>\n",
       "      <td>Denmark</td>\n",
       "      <td>7.600</td>\n",
       "      <td>1.383</td>\n",
       "      <td>1.573</td>\n",
       "      <td>0.996</td>\n",
       "      <td>0.592</td>\n",
       "      <td>0.252</td>\n",
       "      <td>0.410</td>\n",
       "      <td>2019</td>\n",
       "    </tr>\n",
       "    <tr>\n",
       "      <th>2</th>\n",
       "      <td>3</td>\n",
       "      <td>Norway</td>\n",
       "      <td>7.554</td>\n",
       "      <td>1.488</td>\n",
       "      <td>1.582</td>\n",
       "      <td>1.028</td>\n",
       "      <td>0.603</td>\n",
       "      <td>0.271</td>\n",
       "      <td>0.341</td>\n",
       "      <td>2019</td>\n",
       "    </tr>\n",
       "    <tr>\n",
       "      <th>3</th>\n",
       "      <td>4</td>\n",
       "      <td>Iceland</td>\n",
       "      <td>7.494</td>\n",
       "      <td>1.380</td>\n",
       "      <td>1.624</td>\n",
       "      <td>1.026</td>\n",
       "      <td>0.591</td>\n",
       "      <td>0.354</td>\n",
       "      <td>0.118</td>\n",
       "      <td>2019</td>\n",
       "    </tr>\n",
       "    <tr>\n",
       "      <th>4</th>\n",
       "      <td>5</td>\n",
       "      <td>Netherlands</td>\n",
       "      <td>7.488</td>\n",
       "      <td>1.396</td>\n",
       "      <td>1.522</td>\n",
       "      <td>0.999</td>\n",
       "      <td>0.557</td>\n",
       "      <td>0.322</td>\n",
       "      <td>0.298</td>\n",
       "      <td>2019</td>\n",
       "    </tr>\n",
       "  </tbody>\n",
       "</table>\n",
       "</div>"
      ],
      "text/plain": [
       "   행복랭킹          나라명     점수  상대GDP  사회적지원  행복기대치  선택의 자유도    관대함  부패에 대한인식  \\\n",
       "0     1      Finland  7.769  1.340  1.587  0.986    0.596  0.153     0.393   \n",
       "1     2      Denmark  7.600  1.383  1.573  0.996    0.592  0.252     0.410   \n",
       "2     3       Norway  7.554  1.488  1.582  1.028    0.603  0.271     0.341   \n",
       "3     4      Iceland  7.494  1.380  1.624  1.026    0.591  0.354     0.118   \n",
       "4     5  Netherlands  7.488  1.396  1.522  0.999    0.557  0.322     0.298   \n",
       "\n",
       "     년도  \n",
       "0  2019  \n",
       "1  2019  \n",
       "2  2019  \n",
       "3  2019  \n",
       "4  2019  "
      ]
     },
     "execution_count": 32,
     "metadata": {},
     "output_type": "execute_result"
    }
   ],
   "source": [
    "happiness.head()"
   ]
  },
  {
   "cell_type": "markdown",
   "id": "0dc4e244",
   "metadata": {},
   "source": [
    "## 각 연도별 행복랭킹 10위안에 드는 나라의 행복점수의 평균을 구하시오."
   ]
  },
  {
   "cell_type": "markdown",
   "id": "09a2a0db",
   "metadata": {},
   "source": [
    "- 방법 1"
   ]
  },
  {
   "cell_type": "code",
   "execution_count": 33,
   "id": "8a020900",
   "metadata": {
    "scrolled": true
   },
   "outputs": [
    {
     "data": {
      "text/html": [
       "<div>\n",
       "<style scoped>\n",
       "    .dataframe tbody tr th:only-of-type {\n",
       "        vertical-align: middle;\n",
       "    }\n",
       "\n",
       "    .dataframe tbody tr th {\n",
       "        vertical-align: top;\n",
       "    }\n",
       "\n",
       "    .dataframe thead th {\n",
       "        text-align: right;\n",
       "    }\n",
       "</style>\n",
       "<table border=\"1\" class=\"dataframe\">\n",
       "  <thead>\n",
       "    <tr style=\"text-align: right;\">\n",
       "      <th></th>\n",
       "      <th>점수</th>\n",
       "    </tr>\n",
       "    <tr>\n",
       "      <th>년도</th>\n",
       "      <th></th>\n",
       "    </tr>\n",
       "  </thead>\n",
       "  <tbody>\n",
       "    <tr>\n",
       "      <th>2018</th>\n",
       "      <td>7.4442</td>\n",
       "    </tr>\n",
       "    <tr>\n",
       "      <th>2019</th>\n",
       "      <td>7.4559</td>\n",
       "    </tr>\n",
       "  </tbody>\n",
       "</table>\n",
       "</div>"
      ],
      "text/plain": [
       "          점수\n",
       "년도          \n",
       "2018  7.4442\n",
       "2019  7.4559"
      ]
     },
     "execution_count": 33,
     "metadata": {},
     "output_type": "execute_result"
    }
   ],
   "source": [
    "happiness[happiness['행복랭킹']<=10].groupby('년도')[['점수']].mean()"
   ]
  },
  {
   "cell_type": "markdown",
   "id": "187ffa16",
   "metadata": {},
   "source": [
    "- 방법 2"
   ]
  },
  {
   "cell_type": "code",
   "execution_count": 34,
   "id": "e3ea3e0e",
   "metadata": {},
   "outputs": [
    {
     "name": "stdout",
     "output_type": "stream",
     "text": [
      "2019년도 상위 10위 행복지수 평균 :7.46\n",
      "2018년도 상위 10위 행복지수 평균 :7.44\n"
     ]
    }
   ],
   "source": [
    "for i in happiness['년도'].unique():\n",
    "    mean = happiness.groupby('년도').get_group(i).sort_values('행복랭킹').head(10)['점수'].mean()\n",
    "    print(f'{i}년도 상위 10위 행복지수 평균 :{mean:.2f}')"
   ]
  },
  {
   "cell_type": "markdown",
   "id": "f9e4e46e",
   "metadata": {},
   "source": [
    "## 각 연도의 행복랭킹 50위 이내의 나라들의 각각의 행복점수 평균을 데이터프레임으로 표시하시오."
   ]
  },
  {
   "cell_type": "code",
   "execution_count": 35,
   "id": "8286567e",
   "metadata": {},
   "outputs": [
    {
     "data": {
      "text/html": [
       "<div>\n",
       "<style scoped>\n",
       "    .dataframe tbody tr th:only-of-type {\n",
       "        vertical-align: middle;\n",
       "    }\n",
       "\n",
       "    .dataframe tbody tr th {\n",
       "        vertical-align: top;\n",
       "    }\n",
       "\n",
       "    .dataframe thead th {\n",
       "        text-align: right;\n",
       "    }\n",
       "</style>\n",
       "<table border=\"1\" class=\"dataframe\">\n",
       "  <thead>\n",
       "    <tr style=\"text-align: right;\">\n",
       "      <th></th>\n",
       "      <th></th>\n",
       "      <th>점수</th>\n",
       "    </tr>\n",
       "    <tr>\n",
       "      <th>년도</th>\n",
       "      <th>나라명</th>\n",
       "      <th></th>\n",
       "    </tr>\n",
       "  </thead>\n",
       "  <tbody>\n",
       "    <tr>\n",
       "      <th rowspan=\"5\" valign=\"top\">2018</th>\n",
       "      <th>Argentina</th>\n",
       "      <td>6.388</td>\n",
       "    </tr>\n",
       "    <tr>\n",
       "      <th>Australia</th>\n",
       "      <td>7.272</td>\n",
       "    </tr>\n",
       "    <tr>\n",
       "      <th>Austria</th>\n",
       "      <td>7.139</td>\n",
       "    </tr>\n",
       "    <tr>\n",
       "      <th>Bahrain</th>\n",
       "      <td>6.105</td>\n",
       "    </tr>\n",
       "    <tr>\n",
       "      <th>Belgium</th>\n",
       "      <td>6.927</td>\n",
       "    </tr>\n",
       "    <tr>\n",
       "      <th>...</th>\n",
       "      <th>...</th>\n",
       "      <td>...</td>\n",
       "    </tr>\n",
       "    <tr>\n",
       "      <th rowspan=\"5\" valign=\"top\">2019</th>\n",
       "      <th>United Arab Emirates</th>\n",
       "      <td>6.825</td>\n",
       "    </tr>\n",
       "    <tr>\n",
       "      <th>United Kingdom</th>\n",
       "      <td>7.054</td>\n",
       "    </tr>\n",
       "    <tr>\n",
       "      <th>United States</th>\n",
       "      <td>6.892</td>\n",
       "    </tr>\n",
       "    <tr>\n",
       "      <th>Uruguay</th>\n",
       "      <td>6.293</td>\n",
       "    </tr>\n",
       "    <tr>\n",
       "      <th>Uzbekistan</th>\n",
       "      <td>6.174</td>\n",
       "    </tr>\n",
       "  </tbody>\n",
       "</table>\n",
       "<p>100 rows × 1 columns</p>\n",
       "</div>"
      ],
      "text/plain": [
       "                              점수\n",
       "년도   나라명                        \n",
       "2018 Argentina             6.388\n",
       "     Australia             7.272\n",
       "     Austria               7.139\n",
       "     Bahrain               6.105\n",
       "     Belgium               6.927\n",
       "...                          ...\n",
       "2019 United Arab Emirates  6.825\n",
       "     United Kingdom        7.054\n",
       "     United States         6.892\n",
       "     Uruguay               6.293\n",
       "     Uzbekistan            6.174\n",
       "\n",
       "[100 rows x 1 columns]"
      ]
     },
     "execution_count": 35,
     "metadata": {},
     "output_type": "execute_result"
    }
   ],
   "source": [
    "happiness[happiness['행복랭킹']<=50].groupby(['년도','나라명'])[['점수']].mean()"
   ]
  },
  {
   "cell_type": "markdown",
   "id": "8303633c",
   "metadata": {},
   "source": [
    "## 각 년도별 하위 행복점수의 하위 5개 국가의 평균 행복점수를 구하시오"
   ]
  },
  {
   "cell_type": "markdown",
   "id": "d828d664",
   "metadata": {},
   "source": [
    "- 방법 1"
   ]
  },
  {
   "cell_type": "code",
   "execution_count": 36,
   "id": "b7538d84",
   "metadata": {},
   "outputs": [
    {
     "name": "stdout",
     "output_type": "stream",
     "text": [
      "2019년도 하위 5개 국가 평균 행복점수:3.14\n",
      "2018년도 하위 5개 국가 평균 행복점수:3.18\n"
     ]
    }
   ],
   "source": [
    "for i in happiness['년도'].unique():\n",
    "    mean = happiness[happiness['년도']==i].sort_values('점수').head()['점수'].mean()\n",
    "    print(f'{i}년도 하위 5개 국가 평균 행복점수:{mean:.2f}')"
   ]
  },
  {
   "cell_type": "markdown",
   "id": "45b6370f",
   "metadata": {},
   "source": [
    "- 방법 2"
   ]
  },
  {
   "cell_type": "code",
   "execution_count": 37,
   "id": "01829e02",
   "metadata": {
    "scrolled": true
   },
   "outputs": [
    {
     "name": "stdout",
     "output_type": "stream",
     "text": [
      "2019년도 하위 5개 국가 평균 행복점수:3.14\n",
      "2018년도 하위 5개 국가 평균 행복점수:3.18\n"
     ]
    }
   ],
   "source": [
    "for i in happiness['년도'].unique():\n",
    "    mean = happiness.groupby('년도').get_group(i).sort_values('점수').head(5)['점수'].mean()\n",
    "    print(f'{i}년도 하위 5개 국가 평균 행복점수:{mean:.2f}')"
   ]
  },
  {
   "cell_type": "markdown",
   "id": "99445e4e",
   "metadata": {},
   "source": [
    "## 2019년 데이터를 추출하고 해당 데이터의 상대 GDP 평균 이상의 나라들과 평균 이하의 나라들의 행복점수 평균을 각각 구하고 그 차이 값을 출력하시오"
   ]
  },
  {
   "cell_type": "code",
   "execution_count": 38,
   "id": "c8fdedae",
   "metadata": {},
   "outputs": [
    {
     "data": {
      "text/html": [
       "<div>\n",
       "<style scoped>\n",
       "    .dataframe tbody tr th:only-of-type {\n",
       "        vertical-align: middle;\n",
       "    }\n",
       "\n",
       "    .dataframe tbody tr th {\n",
       "        vertical-align: top;\n",
       "    }\n",
       "\n",
       "    .dataframe thead th {\n",
       "        text-align: right;\n",
       "    }\n",
       "</style>\n",
       "<table border=\"1\" class=\"dataframe\">\n",
       "  <thead>\n",
       "    <tr style=\"text-align: right;\">\n",
       "      <th></th>\n",
       "      <th>행복랭킹</th>\n",
       "      <th>나라명</th>\n",
       "      <th>점수</th>\n",
       "      <th>상대GDP</th>\n",
       "      <th>사회적지원</th>\n",
       "      <th>행복기대치</th>\n",
       "      <th>선택의 자유도</th>\n",
       "      <th>관대함</th>\n",
       "      <th>부패에 대한인식</th>\n",
       "      <th>년도</th>\n",
       "    </tr>\n",
       "  </thead>\n",
       "  <tbody>\n",
       "    <tr>\n",
       "      <th>0</th>\n",
       "      <td>1</td>\n",
       "      <td>Finland</td>\n",
       "      <td>7.769</td>\n",
       "      <td>1.340</td>\n",
       "      <td>1.587</td>\n",
       "      <td>0.986</td>\n",
       "      <td>0.596</td>\n",
       "      <td>0.153</td>\n",
       "      <td>0.393</td>\n",
       "      <td>2019</td>\n",
       "    </tr>\n",
       "    <tr>\n",
       "      <th>1</th>\n",
       "      <td>2</td>\n",
       "      <td>Denmark</td>\n",
       "      <td>7.600</td>\n",
       "      <td>1.383</td>\n",
       "      <td>1.573</td>\n",
       "      <td>0.996</td>\n",
       "      <td>0.592</td>\n",
       "      <td>0.252</td>\n",
       "      <td>0.410</td>\n",
       "      <td>2019</td>\n",
       "    </tr>\n",
       "    <tr>\n",
       "      <th>2</th>\n",
       "      <td>3</td>\n",
       "      <td>Norway</td>\n",
       "      <td>7.554</td>\n",
       "      <td>1.488</td>\n",
       "      <td>1.582</td>\n",
       "      <td>1.028</td>\n",
       "      <td>0.603</td>\n",
       "      <td>0.271</td>\n",
       "      <td>0.341</td>\n",
       "      <td>2019</td>\n",
       "    </tr>\n",
       "    <tr>\n",
       "      <th>3</th>\n",
       "      <td>4</td>\n",
       "      <td>Iceland</td>\n",
       "      <td>7.494</td>\n",
       "      <td>1.380</td>\n",
       "      <td>1.624</td>\n",
       "      <td>1.026</td>\n",
       "      <td>0.591</td>\n",
       "      <td>0.354</td>\n",
       "      <td>0.118</td>\n",
       "      <td>2019</td>\n",
       "    </tr>\n",
       "    <tr>\n",
       "      <th>4</th>\n",
       "      <td>5</td>\n",
       "      <td>Netherlands</td>\n",
       "      <td>7.488</td>\n",
       "      <td>1.396</td>\n",
       "      <td>1.522</td>\n",
       "      <td>0.999</td>\n",
       "      <td>0.557</td>\n",
       "      <td>0.322</td>\n",
       "      <td>0.298</td>\n",
       "      <td>2019</td>\n",
       "    </tr>\n",
       "  </tbody>\n",
       "</table>\n",
       "</div>"
      ],
      "text/plain": [
       "   행복랭킹          나라명     점수  상대GDP  사회적지원  행복기대치  선택의 자유도    관대함  부패에 대한인식  \\\n",
       "0     1      Finland  7.769  1.340  1.587  0.986    0.596  0.153     0.393   \n",
       "1     2      Denmark  7.600  1.383  1.573  0.996    0.592  0.252     0.410   \n",
       "2     3       Norway  7.554  1.488  1.582  1.028    0.603  0.271     0.341   \n",
       "3     4      Iceland  7.494  1.380  1.624  1.026    0.591  0.354     0.118   \n",
       "4     5  Netherlands  7.488  1.396  1.522  0.999    0.557  0.322     0.298   \n",
       "\n",
       "     년도  \n",
       "0  2019  \n",
       "1  2019  \n",
       "2  2019  \n",
       "3  2019  \n",
       "4  2019  "
      ]
     },
     "execution_count": 38,
     "metadata": {},
     "output_type": "execute_result"
    }
   ],
   "source": [
    "happiness.head()"
   ]
  },
  {
   "cell_type": "code",
   "execution_count": 39,
   "id": "0258b8c9",
   "metadata": {},
   "outputs": [],
   "source": [
    "happiness_2019 = happiness[happiness['년도'] == 2019]"
   ]
  },
  {
   "cell_type": "code",
   "execution_count": 40,
   "id": "a5fef656",
   "metadata": {},
   "outputs": [
    {
     "name": "stdout",
     "output_type": "stream",
     "text": [
      "2019년 상대 GDP 평균 이상의 나라들 행복점수 평균\n",
      "6.01\n"
     ]
    }
   ],
   "source": [
    "print('2019년 상대 GDP 평균 이상의 나라들 행복점수 평균')\n",
    "a = happiness_2019[happiness_2019['상대GDP'] >= happiness_2019['상대GDP'].mean()] ['점수'].mean()\n",
    "print(f'{a:.2f}')"
   ]
  },
  {
   "cell_type": "code",
   "execution_count": 41,
   "id": "7d5b4f0a",
   "metadata": {},
   "outputs": [
    {
     "name": "stdout",
     "output_type": "stream",
     "text": [
      "2019년 상대 GDP 평균 이하의 나라들 행복점수 평균\n",
      "4.62\n"
     ]
    }
   ],
   "source": [
    "print('2019년 상대 GDP 평균 이하의 나라들 행복점수 평균')\n",
    "b = happiness_2019[happiness_2019['상대GDP'] <= happiness_2019['상대GDP'].mean()]['점수'].mean()\n",
    "print(f'{b:.2f}')"
   ]
  },
  {
   "cell_type": "markdown",
   "id": "4dcb301a",
   "metadata": {},
   "source": [
    "## 각 년도의 부패에 대한인식을 내림차순 정렬했을 때 상위 20개 국가의 부패에 대한인식의 평균을 구하시오"
   ]
  },
  {
   "cell_type": "markdown",
   "id": "b133c41a",
   "metadata": {},
   "source": [
    "- 방법1 "
   ]
  },
  {
   "cell_type": "code",
   "execution_count": 42,
   "id": "df39642b",
   "metadata": {},
   "outputs": [
    {
     "name": "stdout",
     "output_type": "stream",
     "text": [
      "2019년도 상위 20개 국가의 부패에 대한인식의 평균:0.32\n",
      "2018년도 상위 20개 국가의 부패에 대한인식의 평균:0.33\n"
     ]
    }
   ],
   "source": [
    "for i in happiness['년도'].unique():\n",
    "    mean = happiness[happiness['년도']==i].sort_values('부패에 대한인식', ascending = False).head(20)['부패에 대한인식'].mean()\n",
    "    print(f'{i}년도 상위 20개 국가의 부패에 대한인식의 평균:{mean:.2f}')"
   ]
  },
  {
   "cell_type": "markdown",
   "id": "56a0f53c",
   "metadata": {},
   "source": [
    "- 방법2"
   ]
  },
  {
   "cell_type": "code",
   "execution_count": 43,
   "id": "1b594941",
   "metadata": {
    "scrolled": true
   },
   "outputs": [
    {
     "name": "stdout",
     "output_type": "stream",
     "text": [
      "2019년도 상위 20개 국가의 부패에 대한인식의 평균:0.32\n",
      "2018년도 상위 20개 국가의 부패에 대한인식의 평균:0.33\n"
     ]
    }
   ],
   "source": [
    "for i in happiness['년도'].unique():\n",
    "    mean = happiness.groupby('년도').get_group(i).sort_values('부패에 대한인식',ascending=False).head(20)['부패에 대한인식'].mean()\n",
    "    print(f'{i}년도 상위 20개 국가의 부패에 대한인식의 평균:{mean:.2f}')"
   ]
  },
  {
   "cell_type": "markdown",
   "id": "73526076",
   "metadata": {},
   "source": [
    "## 2018년도 행복랭킹 50위 이내에 포함됐다가 2019년 50위 밖으로 밀려난 국가의 숫자를 구하시오.\n"
   ]
  },
  {
   "cell_type": "code",
   "execution_count": 44,
   "id": "71b59610",
   "metadata": {},
   "outputs": [],
   "source": [
    "Rank_50_2018 =list(happiness[happiness['년도']==2018].head(50)['나라명'])"
   ]
  },
  {
   "cell_type": "code",
   "execution_count": 45,
   "id": "c6a16beb",
   "metadata": {},
   "outputs": [],
   "source": [
    "Rank_50_2019 =list(happiness[happiness['년도']==2019].head(50)['나라명'])"
   ]
  },
  {
   "cell_type": "code",
   "execution_count": 46,
   "id": "38f7a51c",
   "metadata": {},
   "outputs": [
    {
     "name": "stdout",
     "output_type": "stream",
     "text": [
      "['Malaysia', 'Kuwait', 'Thailand', 'Belize']\n",
      "4\n"
     ]
    }
   ],
   "source": [
    "non_include = []\n",
    "for country in Rank_50_2018:\n",
    "    if country not in Rank_50_2019:\n",
    "        non_include.append(country)\n",
    "print(non_include)\n",
    "print(len(non_include))"
   ]
  },
  {
   "cell_type": "markdown",
   "id": "acae7a28",
   "metadata": {},
   "source": [
    "## 2018년,2019년 모두 기록이 있는 나라들 중 년도별 행복점수가 가장 증가한 나라와 그 증가 수치는?"
   ]
  },
  {
   "cell_type": "code",
   "execution_count": 47,
   "id": "d73bf488",
   "metadata": {},
   "outputs": [
    {
     "data": {
      "text/html": [
       "<div>\n",
       "<style scoped>\n",
       "    .dataframe tbody tr th:only-of-type {\n",
       "        vertical-align: middle;\n",
       "    }\n",
       "\n",
       "    .dataframe tbody tr th {\n",
       "        vertical-align: top;\n",
       "    }\n",
       "\n",
       "    .dataframe thead th {\n",
       "        text-align: right;\n",
       "    }\n",
       "</style>\n",
       "<table border=\"1\" class=\"dataframe\">\n",
       "  <thead>\n",
       "    <tr style=\"text-align: right;\">\n",
       "      <th></th>\n",
       "      <th>행복랭킹</th>\n",
       "      <th>나라명</th>\n",
       "      <th>점수</th>\n",
       "      <th>상대GDP</th>\n",
       "      <th>사회적지원</th>\n",
       "      <th>행복기대치</th>\n",
       "      <th>선택의 자유도</th>\n",
       "      <th>관대함</th>\n",
       "      <th>부패에 대한인식</th>\n",
       "      <th>년도</th>\n",
       "    </tr>\n",
       "  </thead>\n",
       "  <tbody>\n",
       "    <tr>\n",
       "      <th>0</th>\n",
       "      <td>1</td>\n",
       "      <td>Finland</td>\n",
       "      <td>7.769</td>\n",
       "      <td>1.340</td>\n",
       "      <td>1.587</td>\n",
       "      <td>0.986</td>\n",
       "      <td>0.596</td>\n",
       "      <td>0.153</td>\n",
       "      <td>0.393</td>\n",
       "      <td>2019</td>\n",
       "    </tr>\n",
       "    <tr>\n",
       "      <th>1</th>\n",
       "      <td>2</td>\n",
       "      <td>Denmark</td>\n",
       "      <td>7.600</td>\n",
       "      <td>1.383</td>\n",
       "      <td>1.573</td>\n",
       "      <td>0.996</td>\n",
       "      <td>0.592</td>\n",
       "      <td>0.252</td>\n",
       "      <td>0.410</td>\n",
       "      <td>2019</td>\n",
       "    </tr>\n",
       "    <tr>\n",
       "      <th>2</th>\n",
       "      <td>3</td>\n",
       "      <td>Norway</td>\n",
       "      <td>7.554</td>\n",
       "      <td>1.488</td>\n",
       "      <td>1.582</td>\n",
       "      <td>1.028</td>\n",
       "      <td>0.603</td>\n",
       "      <td>0.271</td>\n",
       "      <td>0.341</td>\n",
       "      <td>2019</td>\n",
       "    </tr>\n",
       "    <tr>\n",
       "      <th>3</th>\n",
       "      <td>4</td>\n",
       "      <td>Iceland</td>\n",
       "      <td>7.494</td>\n",
       "      <td>1.380</td>\n",
       "      <td>1.624</td>\n",
       "      <td>1.026</td>\n",
       "      <td>0.591</td>\n",
       "      <td>0.354</td>\n",
       "      <td>0.118</td>\n",
       "      <td>2019</td>\n",
       "    </tr>\n",
       "    <tr>\n",
       "      <th>4</th>\n",
       "      <td>5</td>\n",
       "      <td>Netherlands</td>\n",
       "      <td>7.488</td>\n",
       "      <td>1.396</td>\n",
       "      <td>1.522</td>\n",
       "      <td>0.999</td>\n",
       "      <td>0.557</td>\n",
       "      <td>0.322</td>\n",
       "      <td>0.298</td>\n",
       "      <td>2019</td>\n",
       "    </tr>\n",
       "  </tbody>\n",
       "</table>\n",
       "</div>"
      ],
      "text/plain": [
       "   행복랭킹          나라명     점수  상대GDP  사회적지원  행복기대치  선택의 자유도    관대함  부패에 대한인식  \\\n",
       "0     1      Finland  7.769  1.340  1.587  0.986    0.596  0.153     0.393   \n",
       "1     2      Denmark  7.600  1.383  1.573  0.996    0.592  0.252     0.410   \n",
       "2     3       Norway  7.554  1.488  1.582  1.028    0.603  0.271     0.341   \n",
       "3     4      Iceland  7.494  1.380  1.624  1.026    0.591  0.354     0.118   \n",
       "4     5  Netherlands  7.488  1.396  1.522  0.999    0.557  0.322     0.298   \n",
       "\n",
       "     년도  \n",
       "0  2019  \n",
       "1  2019  \n",
       "2  2019  \n",
       "3  2019  \n",
       "4  2019  "
      ]
     },
     "execution_count": 47,
     "metadata": {},
     "output_type": "execute_result"
    }
   ],
   "source": [
    "happiness.head()"
   ]
  },
  {
   "cell_type": "code",
   "execution_count": 48,
   "id": "6205c94c",
   "metadata": {},
   "outputs": [],
   "source": [
    "happiness_2019 = happiness[happiness['년도']==2019]\n",
    "happiness_2018 = happiness[happiness['년도']==2018]"
   ]
  },
  {
   "cell_type": "code",
   "execution_count": 49,
   "id": "fe9dcf1e",
   "metadata": {},
   "outputs": [],
   "source": [
    "happiness_2019.columns = happiness_2019.columns+'2019'"
   ]
  },
  {
   "cell_type": "code",
   "execution_count": 50,
   "id": "2c202c1d",
   "metadata": {},
   "outputs": [
    {
     "data": {
      "text/plain": [
       "Index(['행복랭킹2019', '나라명2019', '점수2019', '상대GDP2019', '사회적지원2019', '행복기대치2019',\n",
       "       '선택의 자유도2019', '관대함2019', '부패에 대한인식2019', '년도2019'],\n",
       "      dtype='object')"
      ]
     },
     "execution_count": 50,
     "metadata": {},
     "output_type": "execute_result"
    }
   ],
   "source": [
    "happiness_2019.columns"
   ]
  },
  {
   "cell_type": "code",
   "execution_count": 51,
   "id": "978e51a1",
   "metadata": {},
   "outputs": [],
   "source": [
    "happiness_2018.columns = happiness_2018.columns+'2018'"
   ]
  },
  {
   "cell_type": "code",
   "execution_count": 52,
   "id": "784922c7",
   "metadata": {},
   "outputs": [
    {
     "data": {
      "text/plain": [
       "Index(['행복랭킹2018', '나라명2018', '점수2018', '상대GDP2018', '사회적지원2018', '행복기대치2018',\n",
       "       '선택의 자유도2018', '관대함2018', '부패에 대한인식2018', '년도2018'],\n",
       "      dtype='object')"
      ]
     },
     "execution_count": 52,
     "metadata": {},
     "output_type": "execute_result"
    }
   ],
   "source": [
    "happiness_2018.columns"
   ]
  },
  {
   "cell_type": "code",
   "execution_count": 53,
   "id": "8316f841",
   "metadata": {
    "run_control": {
     "marked": true
    }
   },
   "outputs": [],
   "source": [
    "happiness_merge = pd.merge(happiness_2019, happiness_2018, left_on= '나라명2019', right_on= '나라명2018')"
   ]
  },
  {
   "cell_type": "code",
   "execution_count": 54,
   "id": "278dbdb0",
   "metadata": {
    "scrolled": true
   },
   "outputs": [
    {
     "data": {
      "text/html": [
       "<div>\n",
       "<style scoped>\n",
       "    .dataframe tbody tr th:only-of-type {\n",
       "        vertical-align: middle;\n",
       "    }\n",
       "\n",
       "    .dataframe tbody tr th {\n",
       "        vertical-align: top;\n",
       "    }\n",
       "\n",
       "    .dataframe thead th {\n",
       "        text-align: right;\n",
       "    }\n",
       "</style>\n",
       "<table border=\"1\" class=\"dataframe\">\n",
       "  <thead>\n",
       "    <tr style=\"text-align: right;\">\n",
       "      <th></th>\n",
       "      <th>행복랭킹2019</th>\n",
       "      <th>나라명2019</th>\n",
       "      <th>점수2019</th>\n",
       "      <th>상대GDP2019</th>\n",
       "      <th>사회적지원2019</th>\n",
       "      <th>행복기대치2019</th>\n",
       "      <th>선택의 자유도2019</th>\n",
       "      <th>관대함2019</th>\n",
       "      <th>부패에 대한인식2019</th>\n",
       "      <th>년도2019</th>\n",
       "      <th>행복랭킹2018</th>\n",
       "      <th>나라명2018</th>\n",
       "      <th>점수2018</th>\n",
       "      <th>상대GDP2018</th>\n",
       "      <th>사회적지원2018</th>\n",
       "      <th>행복기대치2018</th>\n",
       "      <th>선택의 자유도2018</th>\n",
       "      <th>관대함2018</th>\n",
       "      <th>부패에 대한인식2018</th>\n",
       "      <th>년도2018</th>\n",
       "    </tr>\n",
       "  </thead>\n",
       "  <tbody>\n",
       "    <tr>\n",
       "      <th>0</th>\n",
       "      <td>1</td>\n",
       "      <td>Finland</td>\n",
       "      <td>7.769</td>\n",
       "      <td>1.340</td>\n",
       "      <td>1.587</td>\n",
       "      <td>0.986</td>\n",
       "      <td>0.596</td>\n",
       "      <td>0.153</td>\n",
       "      <td>0.393</td>\n",
       "      <td>2019</td>\n",
       "      <td>1</td>\n",
       "      <td>Finland</td>\n",
       "      <td>7.632</td>\n",
       "      <td>1.305</td>\n",
       "      <td>1.592</td>\n",
       "      <td>0.874</td>\n",
       "      <td>0.681</td>\n",
       "      <td>0.202</td>\n",
       "      <td>0.393</td>\n",
       "      <td>2018</td>\n",
       "    </tr>\n",
       "    <tr>\n",
       "      <th>1</th>\n",
       "      <td>2</td>\n",
       "      <td>Denmark</td>\n",
       "      <td>7.600</td>\n",
       "      <td>1.383</td>\n",
       "      <td>1.573</td>\n",
       "      <td>0.996</td>\n",
       "      <td>0.592</td>\n",
       "      <td>0.252</td>\n",
       "      <td>0.410</td>\n",
       "      <td>2019</td>\n",
       "      <td>3</td>\n",
       "      <td>Denmark</td>\n",
       "      <td>7.555</td>\n",
       "      <td>1.351</td>\n",
       "      <td>1.590</td>\n",
       "      <td>0.868</td>\n",
       "      <td>0.683</td>\n",
       "      <td>0.284</td>\n",
       "      <td>0.408</td>\n",
       "      <td>2018</td>\n",
       "    </tr>\n",
       "    <tr>\n",
       "      <th>2</th>\n",
       "      <td>3</td>\n",
       "      <td>Norway</td>\n",
       "      <td>7.554</td>\n",
       "      <td>1.488</td>\n",
       "      <td>1.582</td>\n",
       "      <td>1.028</td>\n",
       "      <td>0.603</td>\n",
       "      <td>0.271</td>\n",
       "      <td>0.341</td>\n",
       "      <td>2019</td>\n",
       "      <td>2</td>\n",
       "      <td>Norway</td>\n",
       "      <td>7.594</td>\n",
       "      <td>1.456</td>\n",
       "      <td>1.582</td>\n",
       "      <td>0.861</td>\n",
       "      <td>0.686</td>\n",
       "      <td>0.286</td>\n",
       "      <td>0.340</td>\n",
       "      <td>2018</td>\n",
       "    </tr>\n",
       "    <tr>\n",
       "      <th>3</th>\n",
       "      <td>4</td>\n",
       "      <td>Iceland</td>\n",
       "      <td>7.494</td>\n",
       "      <td>1.380</td>\n",
       "      <td>1.624</td>\n",
       "      <td>1.026</td>\n",
       "      <td>0.591</td>\n",
       "      <td>0.354</td>\n",
       "      <td>0.118</td>\n",
       "      <td>2019</td>\n",
       "      <td>4</td>\n",
       "      <td>Iceland</td>\n",
       "      <td>7.495</td>\n",
       "      <td>1.343</td>\n",
       "      <td>1.644</td>\n",
       "      <td>0.914</td>\n",
       "      <td>0.677</td>\n",
       "      <td>0.353</td>\n",
       "      <td>0.138</td>\n",
       "      <td>2018</td>\n",
       "    </tr>\n",
       "    <tr>\n",
       "      <th>4</th>\n",
       "      <td>5</td>\n",
       "      <td>Netherlands</td>\n",
       "      <td>7.488</td>\n",
       "      <td>1.396</td>\n",
       "      <td>1.522</td>\n",
       "      <td>0.999</td>\n",
       "      <td>0.557</td>\n",
       "      <td>0.322</td>\n",
       "      <td>0.298</td>\n",
       "      <td>2019</td>\n",
       "      <td>6</td>\n",
       "      <td>Netherlands</td>\n",
       "      <td>7.441</td>\n",
       "      <td>1.361</td>\n",
       "      <td>1.488</td>\n",
       "      <td>0.878</td>\n",
       "      <td>0.638</td>\n",
       "      <td>0.333</td>\n",
       "      <td>0.295</td>\n",
       "      <td>2018</td>\n",
       "    </tr>\n",
       "    <tr>\n",
       "      <th>5</th>\n",
       "      <td>6</td>\n",
       "      <td>Switzerland</td>\n",
       "      <td>7.480</td>\n",
       "      <td>1.452</td>\n",
       "      <td>1.526</td>\n",
       "      <td>1.052</td>\n",
       "      <td>0.572</td>\n",
       "      <td>0.263</td>\n",
       "      <td>0.343</td>\n",
       "      <td>2019</td>\n",
       "      <td>5</td>\n",
       "      <td>Switzerland</td>\n",
       "      <td>7.487</td>\n",
       "      <td>1.420</td>\n",
       "      <td>1.549</td>\n",
       "      <td>0.927</td>\n",
       "      <td>0.660</td>\n",
       "      <td>0.256</td>\n",
       "      <td>0.357</td>\n",
       "      <td>2018</td>\n",
       "    </tr>\n",
       "    <tr>\n",
       "      <th>6</th>\n",
       "      <td>7</td>\n",
       "      <td>Sweden</td>\n",
       "      <td>7.343</td>\n",
       "      <td>1.387</td>\n",
       "      <td>1.487</td>\n",
       "      <td>1.009</td>\n",
       "      <td>0.574</td>\n",
       "      <td>0.267</td>\n",
       "      <td>0.373</td>\n",
       "      <td>2019</td>\n",
       "      <td>9</td>\n",
       "      <td>Sweden</td>\n",
       "      <td>7.314</td>\n",
       "      <td>1.355</td>\n",
       "      <td>1.501</td>\n",
       "      <td>0.913</td>\n",
       "      <td>0.659</td>\n",
       "      <td>0.285</td>\n",
       "      <td>0.383</td>\n",
       "      <td>2018</td>\n",
       "    </tr>\n",
       "    <tr>\n",
       "      <th>7</th>\n",
       "      <td>8</td>\n",
       "      <td>New Zealand</td>\n",
       "      <td>7.307</td>\n",
       "      <td>1.303</td>\n",
       "      <td>1.557</td>\n",
       "      <td>1.026</td>\n",
       "      <td>0.585</td>\n",
       "      <td>0.330</td>\n",
       "      <td>0.380</td>\n",
       "      <td>2019</td>\n",
       "      <td>8</td>\n",
       "      <td>New Zealand</td>\n",
       "      <td>7.324</td>\n",
       "      <td>1.268</td>\n",
       "      <td>1.601</td>\n",
       "      <td>0.876</td>\n",
       "      <td>0.669</td>\n",
       "      <td>0.365</td>\n",
       "      <td>0.389</td>\n",
       "      <td>2018</td>\n",
       "    </tr>\n",
       "    <tr>\n",
       "      <th>8</th>\n",
       "      <td>9</td>\n",
       "      <td>Canada</td>\n",
       "      <td>7.278</td>\n",
       "      <td>1.365</td>\n",
       "      <td>1.505</td>\n",
       "      <td>1.039</td>\n",
       "      <td>0.584</td>\n",
       "      <td>0.285</td>\n",
       "      <td>0.308</td>\n",
       "      <td>2019</td>\n",
       "      <td>7</td>\n",
       "      <td>Canada</td>\n",
       "      <td>7.328</td>\n",
       "      <td>1.330</td>\n",
       "      <td>1.532</td>\n",
       "      <td>0.896</td>\n",
       "      <td>0.653</td>\n",
       "      <td>0.321</td>\n",
       "      <td>0.291</td>\n",
       "      <td>2018</td>\n",
       "    </tr>\n",
       "    <tr>\n",
       "      <th>9</th>\n",
       "      <td>10</td>\n",
       "      <td>Austria</td>\n",
       "      <td>7.246</td>\n",
       "      <td>1.376</td>\n",
       "      <td>1.475</td>\n",
       "      <td>1.016</td>\n",
       "      <td>0.532</td>\n",
       "      <td>0.244</td>\n",
       "      <td>0.226</td>\n",
       "      <td>2019</td>\n",
       "      <td>12</td>\n",
       "      <td>Austria</td>\n",
       "      <td>7.139</td>\n",
       "      <td>1.341</td>\n",
       "      <td>1.504</td>\n",
       "      <td>0.891</td>\n",
       "      <td>0.617</td>\n",
       "      <td>0.242</td>\n",
       "      <td>0.224</td>\n",
       "      <td>2018</td>\n",
       "    </tr>\n",
       "  </tbody>\n",
       "</table>\n",
       "</div>"
      ],
      "text/plain": [
       "   행복랭킹2019      나라명2019  점수2019  상대GDP2019  사회적지원2019  행복기대치2019  \\\n",
       "0         1      Finland   7.769      1.340      1.587      0.986   \n",
       "1         2      Denmark   7.600      1.383      1.573      0.996   \n",
       "2         3       Norway   7.554      1.488      1.582      1.028   \n",
       "3         4      Iceland   7.494      1.380      1.624      1.026   \n",
       "4         5  Netherlands   7.488      1.396      1.522      0.999   \n",
       "5         6  Switzerland   7.480      1.452      1.526      1.052   \n",
       "6         7       Sweden   7.343      1.387      1.487      1.009   \n",
       "7         8  New Zealand   7.307      1.303      1.557      1.026   \n",
       "8         9       Canada   7.278      1.365      1.505      1.039   \n",
       "9        10      Austria   7.246      1.376      1.475      1.016   \n",
       "\n",
       "   선택의 자유도2019  관대함2019  부패에 대한인식2019  년도2019  행복랭킹2018      나라명2018  점수2018  \\\n",
       "0        0.596    0.153         0.393    2019         1      Finland   7.632   \n",
       "1        0.592    0.252         0.410    2019         3      Denmark   7.555   \n",
       "2        0.603    0.271         0.341    2019         2       Norway   7.594   \n",
       "3        0.591    0.354         0.118    2019         4      Iceland   7.495   \n",
       "4        0.557    0.322         0.298    2019         6  Netherlands   7.441   \n",
       "5        0.572    0.263         0.343    2019         5  Switzerland   7.487   \n",
       "6        0.574    0.267         0.373    2019         9       Sweden   7.314   \n",
       "7        0.585    0.330         0.380    2019         8  New Zealand   7.324   \n",
       "8        0.584    0.285         0.308    2019         7       Canada   7.328   \n",
       "9        0.532    0.244         0.226    2019        12      Austria   7.139   \n",
       "\n",
       "   상대GDP2018  사회적지원2018  행복기대치2018  선택의 자유도2018  관대함2018  부패에 대한인식2018  년도2018  \n",
       "0      1.305      1.592      0.874        0.681    0.202         0.393    2018  \n",
       "1      1.351      1.590      0.868        0.683    0.284         0.408    2018  \n",
       "2      1.456      1.582      0.861        0.686    0.286         0.340    2018  \n",
       "3      1.343      1.644      0.914        0.677    0.353         0.138    2018  \n",
       "4      1.361      1.488      0.878        0.638    0.333         0.295    2018  \n",
       "5      1.420      1.549      0.927        0.660    0.256         0.357    2018  \n",
       "6      1.355      1.501      0.913        0.659    0.285         0.383    2018  \n",
       "7      1.268      1.601      0.876        0.669    0.365         0.389    2018  \n",
       "8      1.330      1.532      0.896        0.653    0.321         0.291    2018  \n",
       "9      1.341      1.504      0.891        0.617    0.242         0.224    2018  "
      ]
     },
     "execution_count": 54,
     "metadata": {},
     "output_type": "execute_result"
    }
   ],
   "source": [
    "happiness_merge.head(10)"
   ]
  },
  {
   "cell_type": "code",
   "execution_count": 55,
   "id": "10efe1ca",
   "metadata": {},
   "outputs": [],
   "source": [
    "happiness_merge['점수차'] = happiness_merge['점수2019'] - happiness_merge['점수2018'] "
   ]
  },
  {
   "cell_type": "code",
   "execution_count": 56,
   "id": "82610082",
   "metadata": {
    "run_control": {
     "marked": true
    },
    "scrolled": true
   },
   "outputs": [
    {
     "data": {
      "text/html": [
       "<div>\n",
       "<style scoped>\n",
       "    .dataframe tbody tr th:only-of-type {\n",
       "        vertical-align: middle;\n",
       "    }\n",
       "\n",
       "    .dataframe tbody tr th {\n",
       "        vertical-align: top;\n",
       "    }\n",
       "\n",
       "    .dataframe thead th {\n",
       "        text-align: right;\n",
       "    }\n",
       "</style>\n",
       "<table border=\"1\" class=\"dataframe\">\n",
       "  <thead>\n",
       "    <tr style=\"text-align: right;\">\n",
       "      <th></th>\n",
       "      <th>나라명2019</th>\n",
       "      <th>점수차</th>\n",
       "    </tr>\n",
       "  </thead>\n",
       "  <tbody>\n",
       "    <tr>\n",
       "      <th>140</th>\n",
       "      <td>Burundi</td>\n",
       "      <td>0.87</td>\n",
       "    </tr>\n",
       "  </tbody>\n",
       "</table>\n",
       "</div>"
      ],
      "text/plain": [
       "     나라명2019   점수차\n",
       "140  Burundi  0.87"
      ]
     },
     "execution_count": 56,
     "metadata": {},
     "output_type": "execute_result"
    }
   ],
   "source": [
    "happiness_merge.sort_values('점수차', ascending= False).head(1)[['나라명2019','점수차']]"
   ]
  },
  {
   "cell_type": "markdown",
   "id": "e94d09b7",
   "metadata": {},
   "source": [
    "# 유튜브 데이터 분석 (20점)"
   ]
  },
  {
   "cell_type": "code",
   "execution_count": 57,
   "id": "dabead97",
   "metadata": {},
   "outputs": [],
   "source": [
    "youtube = pd.read_csv('./youtube_rank.csv')"
   ]
  },
  {
   "cell_type": "code",
   "execution_count": 58,
   "id": "8e2d15b0",
   "metadata": {},
   "outputs": [
    {
     "data": {
      "text/html": [
       "<div>\n",
       "<style scoped>\n",
       "    .dataframe tbody tr th:only-of-type {\n",
       "        vertical-align: middle;\n",
       "    }\n",
       "\n",
       "    .dataframe tbody tr th {\n",
       "        vertical-align: top;\n",
       "    }\n",
       "\n",
       "    .dataframe thead th {\n",
       "        text-align: right;\n",
       "    }\n",
       "</style>\n",
       "<table border=\"1\" class=\"dataframe\">\n",
       "  <thead>\n",
       "    <tr style=\"text-align: right;\">\n",
       "      <th></th>\n",
       "      <th>title</th>\n",
       "      <th>category</th>\n",
       "      <th>subscriber</th>\n",
       "      <th>view</th>\n",
       "      <th>video</th>\n",
       "    </tr>\n",
       "  </thead>\n",
       "  <tbody>\n",
       "    <tr>\n",
       "      <th>0</th>\n",
       "      <td>BLACKPINK</td>\n",
       "      <td>[음악/댄스/가수]</td>\n",
       "      <td>5140만</td>\n",
       "      <td>128억5130만</td>\n",
       "      <td>319개</td>\n",
       "    </tr>\n",
       "    <tr>\n",
       "      <th>1</th>\n",
       "      <td>Big Hit Labels</td>\n",
       "      <td>[음악/댄스/가수]</td>\n",
       "      <td>4550만</td>\n",
       "      <td>120억8966만</td>\n",
       "      <td>433개</td>\n",
       "    </tr>\n",
       "    <tr>\n",
       "      <th>2</th>\n",
       "      <td>BANGTANTV</td>\n",
       "      <td>[음악/댄스/가수]</td>\n",
       "      <td>3870만</td>\n",
       "      <td>54억7598만</td>\n",
       "      <td>1,319개</td>\n",
       "    </tr>\n",
       "    <tr>\n",
       "      <th>3</th>\n",
       "      <td>Boram Tube Vlog [보람튜브 브이로그]</td>\n",
       "      <td>[키즈/어린이]</td>\n",
       "      <td>2650만</td>\n",
       "      <td>110억5288만</td>\n",
       "      <td>223개</td>\n",
       "    </tr>\n",
       "    <tr>\n",
       "      <th>4</th>\n",
       "      <td>SMTOWN</td>\n",
       "      <td>[음악/댄스/가수]</td>\n",
       "      <td>2450만</td>\n",
       "      <td>180억7532만</td>\n",
       "      <td>3,583개</td>\n",
       "    </tr>\n",
       "  </tbody>\n",
       "</table>\n",
       "</div>"
      ],
      "text/plain": [
       "                         title    category subscriber       view   video\n",
       "0                    BLACKPINK  [음악/댄스/가수]      5140만  128억5130만    319개\n",
       "1               Big Hit Labels  [음악/댄스/가수]      4550만  120억8966만    433개\n",
       "2                    BANGTANTV  [음악/댄스/가수]      3870만   54억7598만  1,319개\n",
       "3  Boram Tube Vlog [보람튜브 브이로그]    [키즈/어린이]      2650만  110억5288만    223개\n",
       "4                       SMTOWN  [음악/댄스/가수]      2450만  180억7532만  3,583개"
      ]
     },
     "execution_count": 58,
     "metadata": {},
     "output_type": "execute_result"
    }
   ],
   "source": [
    "youtube.head()"
   ]
  },
  {
   "cell_type": "markdown",
   "id": "7d7e88de",
   "metadata": {},
   "source": [
    "## 컬럼의 이름을 다음과 같이 변경하시오\n",
    "◼title : 채널명, category : 카테고리, subscriber : 구독자수, view : 조회수, video : 영상개수"
   ]
  },
  {
   "cell_type": "code",
   "execution_count": 59,
   "id": "4eea79e2",
   "metadata": {},
   "outputs": [],
   "source": [
    "youtube.columns = (youtube.columns).map({'title': '채널명', 'category' : '카테고리', 'subscriber' : '구독자수', 'view' : '조회수', 'video' : '영상개수'})"
   ]
  },
  {
   "cell_type": "code",
   "execution_count": 60,
   "id": "9ea4a195",
   "metadata": {
    "scrolled": true
   },
   "outputs": [
    {
     "data": {
      "text/html": [
       "<div>\n",
       "<style scoped>\n",
       "    .dataframe tbody tr th:only-of-type {\n",
       "        vertical-align: middle;\n",
       "    }\n",
       "\n",
       "    .dataframe tbody tr th {\n",
       "        vertical-align: top;\n",
       "    }\n",
       "\n",
       "    .dataframe thead th {\n",
       "        text-align: right;\n",
       "    }\n",
       "</style>\n",
       "<table border=\"1\" class=\"dataframe\">\n",
       "  <thead>\n",
       "    <tr style=\"text-align: right;\">\n",
       "      <th></th>\n",
       "      <th>채널명</th>\n",
       "      <th>카테고리</th>\n",
       "      <th>구독자수</th>\n",
       "      <th>조회수</th>\n",
       "      <th>영상개수</th>\n",
       "    </tr>\n",
       "  </thead>\n",
       "  <tbody>\n",
       "    <tr>\n",
       "      <th>0</th>\n",
       "      <td>BLACKPINK</td>\n",
       "      <td>[음악/댄스/가수]</td>\n",
       "      <td>5140만</td>\n",
       "      <td>128억5130만</td>\n",
       "      <td>319개</td>\n",
       "    </tr>\n",
       "    <tr>\n",
       "      <th>1</th>\n",
       "      <td>Big Hit Labels</td>\n",
       "      <td>[음악/댄스/가수]</td>\n",
       "      <td>4550만</td>\n",
       "      <td>120억8966만</td>\n",
       "      <td>433개</td>\n",
       "    </tr>\n",
       "    <tr>\n",
       "      <th>2</th>\n",
       "      <td>BANGTANTV</td>\n",
       "      <td>[음악/댄스/가수]</td>\n",
       "      <td>3870만</td>\n",
       "      <td>54억7598만</td>\n",
       "      <td>1,319개</td>\n",
       "    </tr>\n",
       "    <tr>\n",
       "      <th>3</th>\n",
       "      <td>Boram Tube Vlog [보람튜브 브이로그]</td>\n",
       "      <td>[키즈/어린이]</td>\n",
       "      <td>2650만</td>\n",
       "      <td>110억5288만</td>\n",
       "      <td>223개</td>\n",
       "    </tr>\n",
       "    <tr>\n",
       "      <th>4</th>\n",
       "      <td>SMTOWN</td>\n",
       "      <td>[음악/댄스/가수]</td>\n",
       "      <td>2450만</td>\n",
       "      <td>180억7532만</td>\n",
       "      <td>3,583개</td>\n",
       "    </tr>\n",
       "  </tbody>\n",
       "</table>\n",
       "</div>"
      ],
      "text/plain": [
       "                           채널명        카테고리   구독자수        조회수    영상개수\n",
       "0                    BLACKPINK  [음악/댄스/가수]  5140만  128억5130만    319개\n",
       "1               Big Hit Labels  [음악/댄스/가수]  4550만  120억8966만    433개\n",
       "2                    BANGTANTV  [음악/댄스/가수]  3870만   54억7598만  1,319개\n",
       "3  Boram Tube Vlog [보람튜브 브이로그]    [키즈/어린이]  2650만  110억5288만    223개\n",
       "4                       SMTOWN  [음악/댄스/가수]  2450만  180억7532만  3,583개"
      ]
     },
     "execution_count": 60,
     "metadata": {},
     "output_type": "execute_result"
    }
   ],
   "source": [
    "youtube.head()"
   ]
  },
  {
   "cell_type": "markdown",
   "id": "b557150e",
   "metadata": {},
   "source": [
    "## ‘구독자수’ 컬럼과 ‘조회수’ 컬럼의 타입을 정수형(int64)로 변경하시오 (‘억’,’만’ 한글을 삭제 후 숫자로 변경)"
   ]
  },
  {
   "cell_type": "code",
   "execution_count": 61,
   "id": "62fbee64",
   "metadata": {
    "scrolled": false
   },
   "outputs": [
    {
     "data": {
      "text/plain": [
       "Index(['구독자수', '조회수'], dtype='object')"
      ]
     },
     "execution_count": 61,
     "metadata": {},
     "output_type": "execute_result"
    }
   ],
   "source": [
    "youtube.columns[2:4]"
   ]
  },
  {
   "cell_type": "code",
   "execution_count": 62,
   "id": "3002de14",
   "metadata": {},
   "outputs": [],
   "source": [
    "youtube[youtube.columns[2:4]] = youtube[youtube.columns[2:4]].replace('억','', regex=True).replace('만','', regex=True).astype('int64')"
   ]
  },
  {
   "cell_type": "code",
   "execution_count": 63,
   "id": "f28858c0",
   "metadata": {},
   "outputs": [
    {
     "data": {
      "text/plain": [
       "채널명     object\n",
       "카테고리    object\n",
       "구독자수     int64\n",
       "조회수      int64\n",
       "영상개수    object\n",
       "dtype: object"
      ]
     },
     "execution_count": 63,
     "metadata": {},
     "output_type": "execute_result"
    }
   ],
   "source": [
    "youtube.dtypes"
   ]
  },
  {
   "cell_type": "markdown",
   "id": "36ec8263",
   "metadata": {},
   "source": [
    "## ‘영상개수’ 컬럼의 ‘,’와 ‘개’문자를 제거하고 정수형(int32)로 변경하시오"
   ]
  },
  {
   "cell_type": "code",
   "execution_count": 64,
   "id": "5f9e8cee",
   "metadata": {},
   "outputs": [],
   "source": [
    "youtube['영상개수'] = youtube['영상개수'].replace(',','', regex=True).replace('개','', regex=True).astype('int64')"
   ]
  },
  {
   "cell_type": "code",
   "execution_count": 65,
   "id": "032098b0",
   "metadata": {
    "scrolled": true
   },
   "outputs": [
    {
     "data": {
      "text/plain": [
       "채널명     object\n",
       "카테고리    object\n",
       "구독자수     int64\n",
       "조회수      int64\n",
       "영상개수     int64\n",
       "dtype: object"
      ]
     },
     "execution_count": 65,
     "metadata": {},
     "output_type": "execute_result"
    }
   ],
   "source": [
    "youtube.dtypes"
   ]
  },
  {
   "cell_type": "markdown",
   "id": "f6738927",
   "metadata": {},
   "source": [
    "## 인기 채널 확인하기\n",
    "◼’구독자수’와 ‘조회수’가 많은 5개의 채널을 각각 출력하시오."
   ]
  },
  {
   "cell_type": "code",
   "execution_count": 66,
   "id": "aad7883a",
   "metadata": {
    "scrolled": true
   },
   "outputs": [
    {
     "data": {
      "text/html": [
       "<div>\n",
       "<style scoped>\n",
       "    .dataframe tbody tr th:only-of-type {\n",
       "        vertical-align: middle;\n",
       "    }\n",
       "\n",
       "    .dataframe tbody tr th {\n",
       "        vertical-align: top;\n",
       "    }\n",
       "\n",
       "    .dataframe thead th {\n",
       "        text-align: right;\n",
       "    }\n",
       "</style>\n",
       "<table border=\"1\" class=\"dataframe\">\n",
       "  <thead>\n",
       "    <tr style=\"text-align: right;\">\n",
       "      <th></th>\n",
       "      <th>채널명</th>\n",
       "      <th>카테고리</th>\n",
       "      <th>구독자수</th>\n",
       "      <th>조회수</th>\n",
       "      <th>영상개수</th>\n",
       "    </tr>\n",
       "  </thead>\n",
       "  <tbody>\n",
       "    <tr>\n",
       "      <th>0</th>\n",
       "      <td>BLACKPINK</td>\n",
       "      <td>[음악/댄스/가수]</td>\n",
       "      <td>5140</td>\n",
       "      <td>1285130</td>\n",
       "      <td>319</td>\n",
       "    </tr>\n",
       "    <tr>\n",
       "      <th>1</th>\n",
       "      <td>Big Hit Labels</td>\n",
       "      <td>[음악/댄스/가수]</td>\n",
       "      <td>4550</td>\n",
       "      <td>1208966</td>\n",
       "      <td>433</td>\n",
       "    </tr>\n",
       "    <tr>\n",
       "      <th>2</th>\n",
       "      <td>BANGTANTV</td>\n",
       "      <td>[음악/댄스/가수]</td>\n",
       "      <td>3870</td>\n",
       "      <td>547598</td>\n",
       "      <td>1319</td>\n",
       "    </tr>\n",
       "    <tr>\n",
       "      <th>3</th>\n",
       "      <td>Boram Tube Vlog [보람튜브 브이로그]</td>\n",
       "      <td>[키즈/어린이]</td>\n",
       "      <td>2650</td>\n",
       "      <td>1105288</td>\n",
       "      <td>223</td>\n",
       "    </tr>\n",
       "    <tr>\n",
       "      <th>4</th>\n",
       "      <td>SMTOWN</td>\n",
       "      <td>[음악/댄스/가수]</td>\n",
       "      <td>2450</td>\n",
       "      <td>1807532</td>\n",
       "      <td>3583</td>\n",
       "    </tr>\n",
       "  </tbody>\n",
       "</table>\n",
       "</div>"
      ],
      "text/plain": [
       "                           채널명        카테고리  구독자수      조회수  영상개수\n",
       "0                    BLACKPINK  [음악/댄스/가수]  5140  1285130   319\n",
       "1               Big Hit Labels  [음악/댄스/가수]  4550  1208966   433\n",
       "2                    BANGTANTV  [음악/댄스/가수]  3870   547598  1319\n",
       "3  Boram Tube Vlog [보람튜브 브이로그]    [키즈/어린이]  2650  1105288   223\n",
       "4                       SMTOWN  [음악/댄스/가수]  2450  1807532  3583"
      ]
     },
     "execution_count": 66,
     "metadata": {},
     "output_type": "execute_result"
    }
   ],
   "source": [
    "youtube.head()"
   ]
  },
  {
   "cell_type": "code",
   "execution_count": 67,
   "id": "7910b577",
   "metadata": {},
   "outputs": [
    {
     "data": {
      "text/html": [
       "<div>\n",
       "<style scoped>\n",
       "    .dataframe tbody tr th:only-of-type {\n",
       "        vertical-align: middle;\n",
       "    }\n",
       "\n",
       "    .dataframe tbody tr th {\n",
       "        vertical-align: top;\n",
       "    }\n",
       "\n",
       "    .dataframe thead th {\n",
       "        text-align: right;\n",
       "    }\n",
       "</style>\n",
       "<table border=\"1\" class=\"dataframe\">\n",
       "  <thead>\n",
       "    <tr style=\"text-align: right;\">\n",
       "      <th></th>\n",
       "      <th>채널명</th>\n",
       "    </tr>\n",
       "  </thead>\n",
       "  <tbody>\n",
       "    <tr>\n",
       "      <th>0</th>\n",
       "      <td>BLACKPINK</td>\n",
       "    </tr>\n",
       "    <tr>\n",
       "      <th>1</th>\n",
       "      <td>Big Hit Labels</td>\n",
       "    </tr>\n",
       "    <tr>\n",
       "      <th>2</th>\n",
       "      <td>BANGTANTV</td>\n",
       "    </tr>\n",
       "    <tr>\n",
       "      <th>3</th>\n",
       "      <td>Boram Tube Vlog [보람튜브 브이로그]</td>\n",
       "    </tr>\n",
       "    <tr>\n",
       "      <th>4</th>\n",
       "      <td>SMTOWN</td>\n",
       "    </tr>\n",
       "  </tbody>\n",
       "</table>\n",
       "</div>"
      ],
      "text/plain": [
       "                           채널명\n",
       "0                    BLACKPINK\n",
       "1               Big Hit Labels\n",
       "2                    BANGTANTV\n",
       "3  Boram Tube Vlog [보람튜브 브이로그]\n",
       "4                       SMTOWN"
      ]
     },
     "execution_count": 67,
     "metadata": {},
     "output_type": "execute_result"
    }
   ],
   "source": [
    "youtube.sort_values('구독자수', ascending = False).head(5)[['채널명']]"
   ]
  },
  {
   "cell_type": "code",
   "execution_count": 68,
   "id": "8a5d7b93",
   "metadata": {
    "scrolled": true
   },
   "outputs": [
    {
     "data": {
      "text/html": [
       "<div>\n",
       "<style scoped>\n",
       "    .dataframe tbody tr th:only-of-type {\n",
       "        vertical-align: middle;\n",
       "    }\n",
       "\n",
       "    .dataframe tbody tr th {\n",
       "        vertical-align: top;\n",
       "    }\n",
       "\n",
       "    .dataframe thead th {\n",
       "        text-align: right;\n",
       "    }\n",
       "</style>\n",
       "<table border=\"1\" class=\"dataframe\">\n",
       "  <thead>\n",
       "    <tr style=\"text-align: right;\">\n",
       "      <th></th>\n",
       "      <th>채널명</th>\n",
       "    </tr>\n",
       "  </thead>\n",
       "  <tbody>\n",
       "    <tr>\n",
       "      <th>4</th>\n",
       "      <td>SMTOWN</td>\n",
       "    </tr>\n",
       "    <tr>\n",
       "      <th>6</th>\n",
       "      <td>1theK (원더케이)</td>\n",
       "    </tr>\n",
       "    <tr>\n",
       "      <th>8</th>\n",
       "      <td>ArianaGrandeVevo</td>\n",
       "    </tr>\n",
       "    <tr>\n",
       "      <th>0</th>\n",
       "      <td>BLACKPINK</td>\n",
       "    </tr>\n",
       "    <tr>\n",
       "      <th>1</th>\n",
       "      <td>Big Hit Labels</td>\n",
       "    </tr>\n",
       "  </tbody>\n",
       "</table>\n",
       "</div>"
      ],
      "text/plain": [
       "                채널명\n",
       "4            SMTOWN\n",
       "6      1theK (원더케이)\n",
       "8  ArianaGrandeVevo\n",
       "0         BLACKPINK\n",
       "1    Big Hit Labels"
      ]
     },
     "execution_count": 68,
     "metadata": {},
     "output_type": "execute_result"
    }
   ],
   "source": [
    "youtube.sort_values('조회수', ascending = False).head(5)[['채널명']]"
   ]
  },
  {
   "cell_type": "markdown",
   "id": "92c14034",
   "metadata": {},
   "source": [
    "## ‘카테고리’가 [음악/댄스/가수]인 채널의 ‘구독자수’ 상위 5개를 출력하시오."
   ]
  },
  {
   "cell_type": "code",
   "execution_count": 69,
   "id": "9106e73b",
   "metadata": {
    "scrolled": true
   },
   "outputs": [
    {
     "data": {
      "text/html": [
       "<div>\n",
       "<style scoped>\n",
       "    .dataframe tbody tr th:only-of-type {\n",
       "        vertical-align: middle;\n",
       "    }\n",
       "\n",
       "    .dataframe tbody tr th {\n",
       "        vertical-align: top;\n",
       "    }\n",
       "\n",
       "    .dataframe thead th {\n",
       "        text-align: right;\n",
       "    }\n",
       "</style>\n",
       "<table border=\"1\" class=\"dataframe\">\n",
       "  <thead>\n",
       "    <tr style=\"text-align: right;\">\n",
       "      <th></th>\n",
       "      <th>채널명</th>\n",
       "      <th>카테고리</th>\n",
       "      <th>구독자수</th>\n",
       "      <th>조회수</th>\n",
       "      <th>영상개수</th>\n",
       "    </tr>\n",
       "  </thead>\n",
       "  <tbody>\n",
       "    <tr>\n",
       "      <th>0</th>\n",
       "      <td>BLACKPINK</td>\n",
       "      <td>[음악/댄스/가수]</td>\n",
       "      <td>5140</td>\n",
       "      <td>1285130</td>\n",
       "      <td>319</td>\n",
       "    </tr>\n",
       "    <tr>\n",
       "      <th>1</th>\n",
       "      <td>Big Hit Labels</td>\n",
       "      <td>[음악/댄스/가수]</td>\n",
       "      <td>4550</td>\n",
       "      <td>1208966</td>\n",
       "      <td>433</td>\n",
       "    </tr>\n",
       "    <tr>\n",
       "      <th>2</th>\n",
       "      <td>BANGTANTV</td>\n",
       "      <td>[음악/댄스/가수]</td>\n",
       "      <td>3870</td>\n",
       "      <td>547598</td>\n",
       "      <td>1319</td>\n",
       "    </tr>\n",
       "    <tr>\n",
       "      <th>4</th>\n",
       "      <td>SMTOWN</td>\n",
       "      <td>[음악/댄스/가수]</td>\n",
       "      <td>2450</td>\n",
       "      <td>1807532</td>\n",
       "      <td>3583</td>\n",
       "    </tr>\n",
       "    <tr>\n",
       "      <th>5</th>\n",
       "      <td>1MILLION Dance Studio</td>\n",
       "      <td>[음악/댄스/가수]</td>\n",
       "      <td>2230</td>\n",
       "      <td>575358</td>\n",
       "      <td>2205</td>\n",
       "    </tr>\n",
       "  </tbody>\n",
       "</table>\n",
       "</div>"
      ],
      "text/plain": [
       "                     채널명        카테고리  구독자수      조회수  영상개수\n",
       "0              BLACKPINK  [음악/댄스/가수]  5140  1285130   319\n",
       "1         Big Hit Labels  [음악/댄스/가수]  4550  1208966   433\n",
       "2              BANGTANTV  [음악/댄스/가수]  3870   547598  1319\n",
       "4                 SMTOWN  [음악/댄스/가수]  2450  1807532  3583\n",
       "5  1MILLION Dance Studio  [음악/댄스/가수]  2230   575358  2205"
      ]
     },
     "execution_count": 69,
     "metadata": {},
     "output_type": "execute_result"
    }
   ],
   "source": [
    "youtube[youtube['카테고리'] == '[음악/댄스/가수]'].sort_values('구독자수', ascending = False).head(5)"
   ]
  },
  {
   "cell_type": "markdown",
   "id": "de70de85",
   "metadata": {},
   "source": [
    "## ‘카테고리가’ [TV/방송]이거나 [게임]인 채널의 개수를 출력하시오."
   ]
  },
  {
   "cell_type": "code",
   "execution_count": 70,
   "id": "3d10bb7f",
   "metadata": {},
   "outputs": [
    {
     "data": {
      "text/plain": [
       "262"
      ]
     },
     "execution_count": 70,
     "metadata": {},
     "output_type": "execute_result"
    }
   ],
   "source": [
    "np.sum((youtube['카테고리'] == '[TV/방송]') | (youtube['카테고리'] == '[게임]'))"
   ]
  },
  {
   "cell_type": "code",
   "execution_count": 71,
   "id": "02165854",
   "metadata": {
    "scrolled": true
   },
   "outputs": [
    {
     "data": {
      "text/plain": [
       "[음악/댄스/가수]     175\n",
       "[TV/방송]        161\n",
       "[게임]           101\n",
       "[키즈/어린이]        95\n",
       "[음식/요리/레시피]     88\n",
       "[BJ/인물/연예인]     68\n",
       "[패션/미용]         57\n",
       "[뉴스/정치/사회]      56\n",
       "[미분류]           40\n",
       "[취미/라이프]        40\n",
       "[영화/만화/애니]      33\n",
       "[교육/강의]         23\n",
       "[애완/반려동물]       20\n",
       "[스포츠/운동]        12\n",
       "[IT/기술/컴퓨터]      8\n",
       "[해외]             6\n",
       "[주식/경제/부동산]      5\n",
       "[국내/해외/여행]       5\n",
       "[회사/오피셜]         4\n",
       "[자동차]            2\n",
       "[취미]             1\n",
       "Name: 카테고리, dtype: int64"
      ]
     },
     "execution_count": 71,
     "metadata": {},
     "output_type": "execute_result"
    }
   ],
   "source": [
    "youtube['카테고리'].value_counts()"
   ]
  },
  {
   "cell_type": "markdown",
   "id": "c37ddf46",
   "metadata": {},
   "source": [
    "## ‘채널명’에 ‘KBS’가 포함된 채널 명을 출력하시오"
   ]
  },
  {
   "cell_type": "code",
   "execution_count": 72,
   "id": "f69fb938",
   "metadata": {},
   "outputs": [
    {
     "data": {
      "text/plain": [
       "Index(['채널명', '카테고리', '구독자수', '조회수', '영상개수'], dtype='object')"
      ]
     },
     "execution_count": 72,
     "metadata": {},
     "output_type": "execute_result"
    }
   ],
   "source": [
    "youtube.columns"
   ]
  },
  {
   "cell_type": "code",
   "execution_count": 73,
   "id": "8bb77f5e",
   "metadata": {},
   "outputs": [
    {
     "data": {
      "text/plain": [
       "12                    KBS World\n",
       "46                     KBS Kpop\n",
       "76                KBS Entertain\n",
       "101                   KBS Drama\n",
       "290                    KBS 한국방송\n",
       "292           KBS Drama Classic\n",
       "308             KBS HUMAN: 뭉클티비\n",
       "389                    KBS News\n",
       "457                  KBS CoolFM\n",
       "716                       KBS N\n",
       "777                    KBS KONG\n",
       "991    KBS Documentary [KBS 다큐]\n",
       "992                      KBS 교양\n",
       "Name: 채널명, dtype: object"
      ]
     },
     "execution_count": 73,
     "metadata": {},
     "output_type": "execute_result"
    }
   ],
   "source": [
    "youtube['채널명'][youtube['채널명'].str.find('KBS') != -1]"
   ]
  },
  {
   "cell_type": "markdown",
   "id": "ed79afeb",
   "metadata": {},
   "source": [
    " ## ‘카테고리’별 ‘구독자수’, ‘조회수’, ‘영상개수’의 평균을 출력하시오."
   ]
  },
  {
   "cell_type": "code",
   "execution_count": 74,
   "id": "4bfb5501",
   "metadata": {},
   "outputs": [
    {
     "data": {
      "text/html": [
       "<div>\n",
       "<style scoped>\n",
       "    .dataframe tbody tr th:only-of-type {\n",
       "        vertical-align: middle;\n",
       "    }\n",
       "\n",
       "    .dataframe tbody tr th {\n",
       "        vertical-align: top;\n",
       "    }\n",
       "\n",
       "    .dataframe thead th {\n",
       "        text-align: right;\n",
       "    }\n",
       "</style>\n",
       "<table border=\"1\" class=\"dataframe\">\n",
       "  <thead>\n",
       "    <tr style=\"text-align: right;\">\n",
       "      <th></th>\n",
       "      <th>구독자수</th>\n",
       "      <th>조회수</th>\n",
       "      <th>영상개수</th>\n",
       "    </tr>\n",
       "    <tr>\n",
       "      <th>카테고리</th>\n",
       "      <th></th>\n",
       "      <th></th>\n",
       "      <th></th>\n",
       "    </tr>\n",
       "  </thead>\n",
       "  <tbody>\n",
       "    <tr>\n",
       "      <th>[BJ/인물/연예인]</th>\n",
       "      <td>127.441176</td>\n",
       "      <td>41015.485294</td>\n",
       "      <td>837.735294</td>\n",
       "    </tr>\n",
       "    <tr>\n",
       "      <th>[IT/기술/컴퓨터]</th>\n",
       "      <td>80.625000</td>\n",
       "      <td>17661.000000</td>\n",
       "      <td>1200.125000</td>\n",
       "    </tr>\n",
       "    <tr>\n",
       "      <th>[TV/방송]</th>\n",
       "      <td>121.987578</td>\n",
       "      <td>71848.341615</td>\n",
       "      <td>9025.130435</td>\n",
       "    </tr>\n",
       "    <tr>\n",
       "      <th>[게임]</th>\n",
       "      <td>74.356436</td>\n",
       "      <td>45425.346535</td>\n",
       "      <td>2527.009901</td>\n",
       "    </tr>\n",
       "    <tr>\n",
       "      <th>[교육/강의]</th>\n",
       "      <td>85.130435</td>\n",
       "      <td>17721.826087</td>\n",
       "      <td>837.913043</td>\n",
       "    </tr>\n",
       "    <tr>\n",
       "      <th>[국내/해외/여행]</th>\n",
       "      <td>62.600000</td>\n",
       "      <td>18662.400000</td>\n",
       "      <td>830.200000</td>\n",
       "    </tr>\n",
       "    <tr>\n",
       "      <th>[뉴스/정치/사회]</th>\n",
       "      <td>122.696429</td>\n",
       "      <td>119993.553571</td>\n",
       "      <td>42048.089286</td>\n",
       "    </tr>\n",
       "    <tr>\n",
       "      <th>[미분류]</th>\n",
       "      <td>142.950000</td>\n",
       "      <td>40903.400000</td>\n",
       "      <td>778.050000</td>\n",
       "    </tr>\n",
       "    <tr>\n",
       "      <th>[스포츠/운동]</th>\n",
       "      <td>93.250000</td>\n",
       "      <td>27918.916667</td>\n",
       "      <td>3954.916667</td>\n",
       "    </tr>\n",
       "    <tr>\n",
       "      <th>[애완/반려동물]</th>\n",
       "      <td>116.100000</td>\n",
       "      <td>42131.700000</td>\n",
       "      <td>786.250000</td>\n",
       "    </tr>\n",
       "    <tr>\n",
       "      <th>[영화/만화/애니]</th>\n",
       "      <td>85.272727</td>\n",
       "      <td>31858.696970</td>\n",
       "      <td>770.181818</td>\n",
       "    </tr>\n",
       "    <tr>\n",
       "      <th>[음식/요리/레시피]</th>\n",
       "      <td>161.204545</td>\n",
       "      <td>40738.193182</td>\n",
       "      <td>830.022727</td>\n",
       "    </tr>\n",
       "    <tr>\n",
       "      <th>[음악/댄스/가수]</th>\n",
       "      <td>319.520000</td>\n",
       "      <td>109166.845714</td>\n",
       "      <td>1382.051429</td>\n",
       "    </tr>\n",
       "    <tr>\n",
       "      <th>[자동차]</th>\n",
       "      <td>49.000000</td>\n",
       "      <td>18561.500000</td>\n",
       "      <td>670.000000</td>\n",
       "    </tr>\n",
       "    <tr>\n",
       "      <th>[주식/경제/부동산]</th>\n",
       "      <td>62.600000</td>\n",
       "      <td>6800.000000</td>\n",
       "      <td>1026.400000</td>\n",
       "    </tr>\n",
       "    <tr>\n",
       "      <th>[취미/라이프]</th>\n",
       "      <td>97.450000</td>\n",
       "      <td>20431.175000</td>\n",
       "      <td>359.325000</td>\n",
       "    </tr>\n",
       "    <tr>\n",
       "      <th>[취미]</th>\n",
       "      <td>56.000000</td>\n",
       "      <td>10615.000000</td>\n",
       "      <td>237.000000</td>\n",
       "    </tr>\n",
       "    <tr>\n",
       "      <th>[키즈/어린이]</th>\n",
       "      <td>272.915789</td>\n",
       "      <td>128138.431579</td>\n",
       "      <td>1069.157895</td>\n",
       "    </tr>\n",
       "    <tr>\n",
       "      <th>[패션/미용]</th>\n",
       "      <td>82.385965</td>\n",
       "      <td>10437.736842</td>\n",
       "      <td>313.157895</td>\n",
       "    </tr>\n",
       "    <tr>\n",
       "      <th>[해외]</th>\n",
       "      <td>159.500000</td>\n",
       "      <td>83825.333333</td>\n",
       "      <td>5043.500000</td>\n",
       "    </tr>\n",
       "    <tr>\n",
       "      <th>[회사/오피셜]</th>\n",
       "      <td>220.250000</td>\n",
       "      <td>49661.250000</td>\n",
       "      <td>2084.250000</td>\n",
       "    </tr>\n",
       "  </tbody>\n",
       "</table>\n",
       "</div>"
      ],
      "text/plain": [
       "                   구독자수            조회수          영상개수\n",
       "카테고리                                                \n",
       "[BJ/인물/연예인]  127.441176   41015.485294    837.735294\n",
       "[IT/기술/컴퓨터]   80.625000   17661.000000   1200.125000\n",
       "[TV/방송]      121.987578   71848.341615   9025.130435\n",
       "[게임]          74.356436   45425.346535   2527.009901\n",
       "[교육/강의]       85.130435   17721.826087    837.913043\n",
       "[국내/해외/여행]    62.600000   18662.400000    830.200000\n",
       "[뉴스/정치/사회]   122.696429  119993.553571  42048.089286\n",
       "[미분류]        142.950000   40903.400000    778.050000\n",
       "[스포츠/운동]      93.250000   27918.916667   3954.916667\n",
       "[애완/반려동물]    116.100000   42131.700000    786.250000\n",
       "[영화/만화/애니]    85.272727   31858.696970    770.181818\n",
       "[음식/요리/레시피]  161.204545   40738.193182    830.022727\n",
       "[음악/댄스/가수]   319.520000  109166.845714   1382.051429\n",
       "[자동차]         49.000000   18561.500000    670.000000\n",
       "[주식/경제/부동산]   62.600000    6800.000000   1026.400000\n",
       "[취미/라이프]      97.450000   20431.175000    359.325000\n",
       "[취미]          56.000000   10615.000000    237.000000\n",
       "[키즈/어린이]     272.915789  128138.431579   1069.157895\n",
       "[패션/미용]       82.385965   10437.736842    313.157895\n",
       "[해외]         159.500000   83825.333333   5043.500000\n",
       "[회사/오피셜]     220.250000   49661.250000   2084.250000"
      ]
     },
     "execution_count": 74,
     "metadata": {},
     "output_type": "execute_result"
    }
   ],
   "source": [
    "youtube.groupby('카테고리')[['구독자수','조회수','영상개수']].mean()"
   ]
  }
 ],
 "metadata": {
  "kernelspec": {
   "display_name": "Python 3 (ipykernel)",
   "language": "python",
   "name": "python3"
  },
  "language_info": {
   "codemirror_mode": {
    "name": "ipython",
    "version": 3
   },
   "file_extension": ".py",
   "mimetype": "text/x-python",
   "name": "python",
   "nbconvert_exporter": "python",
   "pygments_lexer": "ipython3",
   "version": "3.9.13"
  },
  "toc": {
   "base_numbering": 1,
   "nav_menu": {},
   "number_sections": true,
   "sideBar": true,
   "skip_h1_title": false,
   "title_cell": "Table of Contents",
   "title_sidebar": "Contents",
   "toc_cell": false,
   "toc_position": {
    "height": "calc(100% - 180px)",
    "left": "10px",
    "top": "150px",
    "width": "279.273px"
   },
   "toc_section_display": true,
   "toc_window_display": true
  }
 },
 "nbformat": 4,
 "nbformat_minor": 5
}
